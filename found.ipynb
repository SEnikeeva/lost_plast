{
 "cells": [
  {
   "cell_type": "code",
   "execution_count": 13,
   "metadata": {
    "pycharm": {
     "name": "#%%\n"
    }
   },
   "outputs": [],
   "source": [
    "import pandas as pd\n",
    "import sys\n",
    "from data_reader import fes_reader, perf_reader\n",
    "from tqdm import tqdm\n",
    "import bisect\n",
    "import json\n",
    "from datetime import date"
   ]
  },
  {
   "cell_type": "code",
   "execution_count": 3,
   "metadata": {
    "pycharm": {
     "name": "#%%\n"
    }
   },
   "outputs": [],
   "source": [
    "# конвертация путей файлов в зависимости от системы\n",
    "def replace_slash(file_path):\n",
    "    platform = sys.platform\n",
    "    slash_map = {'win32': '\\\\',\n",
    "                'cygwin': '\\\\',\n",
    "                'darwin': '/',\n",
    "                'linux2': '/'}\n",
    "    if platform not in slash_map.keys(): platform = 'linux2'\n",
    "    return file_path.replace('\\\\', slash_map[platform])"
   ]
  },
  {
   "cell_type": "code",
   "execution_count": 4,
   "metadata": {
    "pycharm": {
     "name": "#%%\n"
    }
   },
   "outputs": [],
   "source": [
    "perf_path = replace_slash('input_data\\\\' + 'armitz/miner/ARX_PERF.xlsx')\n",
    "fes_path = replace_slash('input_data\\\\armitz/miner/QINF.xlsx')"
   ]
  },
  {
   "cell_type": "code",
   "execution_count": 5,
   "metadata": {
    "pycharm": {
     "name": "#%%\n"
    }
   },
   "outputs": [
    {
     "name": "stdout",
     "output_type": "stream",
     "text": [
      "started reading perf xl\n",
      "done reading perf xl\n",
      "started transform perf table to dict\n",
      "done\n",
      "started reading fes xl\n",
      "done reading fes xl\n"
     ]
    }
   ],
   "source": [
    "perf_ints, perf_df = perf_reader(perf_path)\n",
    "fes_df = fes_reader(fes_path)\n",
    "SOIL_CUT = 60"
   ]
  },
  {
   "cell_type": "code",
   "execution_count": 6,
   "metadata": {
    "pycharm": {
     "name": "#%%\n"
    }
   },
   "outputs": [
    {
     "data": {
      "text/html": [
       "<div>\n",
       "<style scoped>\n",
       "    .dataframe tbody tr th:only-of-type {\n",
       "        vertical-align: middle;\n",
       "    }\n",
       "\n",
       "    .dataframe tbody tr th {\n",
       "        vertical-align: top;\n",
       "    }\n",
       "\n",
       "    .dataframe thead th {\n",
       "        text-align: right;\n",
       "    }\n",
       "</style>\n",
       "<table border=\"1\" class=\"dataframe\">\n",
       "  <thead>\n",
       "    <tr style=\"text-align: right;\">\n",
       "      <th></th>\n",
       "      <th>well</th>\n",
       "      <th>top</th>\n",
       "      <th>bot</th>\n",
       "      <th>soil</th>\n",
       "    </tr>\n",
       "  </thead>\n",
       "  <tbody>\n",
       "    <tr>\n",
       "      <th>0</th>\n",
       "      <td>1</td>\n",
       "      <td>NaN</td>\n",
       "      <td>1648.4</td>\n",
       "      <td>NaN</td>\n",
       "    </tr>\n",
       "    <tr>\n",
       "      <th>1</th>\n",
       "      <td>1</td>\n",
       "      <td>1669.6</td>\n",
       "      <td>1670.6</td>\n",
       "      <td>69.5</td>\n",
       "    </tr>\n",
       "    <tr>\n",
       "      <th>2</th>\n",
       "      <td>1</td>\n",
       "      <td>1678.4</td>\n",
       "      <td>1679.2</td>\n",
       "      <td>NaN</td>\n",
       "    </tr>\n",
       "    <tr>\n",
       "      <th>3</th>\n",
       "      <td>1</td>\n",
       "      <td>1683.0</td>\n",
       "      <td>1684.0</td>\n",
       "      <td>NaN</td>\n",
       "    </tr>\n",
       "    <tr>\n",
       "      <th>4</th>\n",
       "      <td>1</td>\n",
       "      <td>1686.0</td>\n",
       "      <td>1687.0</td>\n",
       "      <td>NaN</td>\n",
       "    </tr>\n",
       "    <tr>\n",
       "      <th>...</th>\n",
       "      <td>...</td>\n",
       "      <td>...</td>\n",
       "      <td>...</td>\n",
       "      <td>...</td>\n",
       "    </tr>\n",
       "    <tr>\n",
       "      <th>156269</th>\n",
       "      <td>32960</td>\n",
       "      <td>1901.0</td>\n",
       "      <td>1901.8</td>\n",
       "      <td>52.9</td>\n",
       "    </tr>\n",
       "    <tr>\n",
       "      <th>156270</th>\n",
       "      <td>32960</td>\n",
       "      <td>1903.0</td>\n",
       "      <td>1905.0</td>\n",
       "      <td>NaN</td>\n",
       "    </tr>\n",
       "    <tr>\n",
       "      <th>156271</th>\n",
       "      <td>32960</td>\n",
       "      <td>1914.0</td>\n",
       "      <td>1915.4</td>\n",
       "      <td>NaN</td>\n",
       "    </tr>\n",
       "    <tr>\n",
       "      <th>156272</th>\n",
       "      <td>32960</td>\n",
       "      <td>1917.6</td>\n",
       "      <td>1919.0</td>\n",
       "      <td>NaN</td>\n",
       "    </tr>\n",
       "    <tr>\n",
       "      <th>156273</th>\n",
       "      <td>32960</td>\n",
       "      <td>1927.0</td>\n",
       "      <td>1927.8</td>\n",
       "      <td>NaN</td>\n",
       "    </tr>\n",
       "  </tbody>\n",
       "</table>\n",
       "<p>156274 rows × 4 columns</p>\n",
       "</div>"
      ],
      "text/plain": [
       "         well     top     bot  soil\n",
       "0           1     NaN  1648.4   NaN\n",
       "1           1  1669.6  1670.6  69.5\n",
       "2           1  1678.4  1679.2   NaN\n",
       "3           1  1683.0  1684.0   NaN\n",
       "4           1  1686.0  1687.0   NaN\n",
       "...       ...     ...     ...   ...\n",
       "156269  32960  1901.0  1901.8  52.9\n",
       "156270  32960  1903.0  1905.0   NaN\n",
       "156271  32960  1914.0  1915.4   NaN\n",
       "156272  32960  1917.6  1919.0   NaN\n",
       "156273  32960  1927.0  1927.8   NaN\n",
       "\n",
       "[156274 rows x 4 columns]"
      ]
     },
     "execution_count": 6,
     "metadata": {},
     "output_type": "execute_result"
    }
   ],
   "source": [
    "fes_df"
   ]
  },
  {
   "cell_type": "code",
   "execution_count": 16,
   "metadata": {
    "pycharm": {
     "name": "#%%\n"
    }
   },
   "outputs": [
    {
     "name": "stderr",
     "output_type": "stream",
     "text": [
      "100%|██████████| 4093/4093 [00:45<00:00, 89.64it/s] \n"
     ]
    }
   ],
   "source": [
    "def get_actual_perf(perf_df):\n",
    "    act_perf = []\n",
    "    for well in tqdm(perf_df['well'].unique()):\n",
    "        well_df = perf_df[perf_df['well'] == well]\n",
    "        act_perf_well = []\n",
    "        for date in well_df['date'].unique():\n",
    "            date_df = well_df[well_df['date'] == date]\n",
    "            for top, bot, perf_type in date_df[['top', 'bot', 'type']].values:\n",
    "                idx = bisect.bisect_left([t['bot'] for t in act_perf_well], top)\n",
    "                if idx == len(act_perf_well):\n",
    "                    act_perf_well.append({'well': well, 'top': top,'bot': bot, 'perf_type': perf_type})\n",
    "                else:\n",
    "                    if act_perf_well[idx]['top'] > top:\n",
    "                        if act_perf_well[idx]['perf_type'] == perf_type:\n",
    "                            act_perf_well[idx]['top'] = top\n",
    "                        else:\n",
    "                            act_perf_well.insert(idx, {'well': well, 'top': top,'bot': bot if act_perf_well[idx]['top'] > bot else act_perf_well[idx]['top'],\n",
    "                                                   'perf_type': perf_type})\n",
    "                    if act_perf_well[idx]['bot'] < bot:\n",
    "                        if act_perf_well[idx]['perf_type'] == perf_type:\n",
    "                            act_perf_well[idx]['bot'] = bot\n",
    "                        else:\n",
    "                            act_perf_well.insert(idx + 1, {'well': well, 'top': act_perf_well[idx]['bot'],'bot': bot, 'perf_type': perf_type})\n",
    "\n",
    "#         act_perf[well] = act_perf_well\n",
    "        act_perf.extend(act_perf_well)\n",
    "    return act_perf\n",
    "\n",
    "\n",
    "#\n",
    "\n",
    "perf =  get_actual_perf(perf_df)"
   ]
  },
  {
   "cell_type": "code",
   "execution_count": 6,
   "metadata": {
    "pycharm": {
     "name": "#%%\n"
    }
   },
   "outputs": [
    {
     "data": {
      "text/plain": "        well  type                date     top     bot\n48492  9642д     1 1991-03-11 00:00:00  1316.0  1340.5\n48491  9642д     0 1991-03-10 00:00:00  1676.8  1679.8\n48490  9642д     1 1982-01-16 00:00:00  1676.8  1679.8\n54866   9636     1 2003-09-10 23:00:00  1736.0  1738.0\n54867   9636     1 2003-09-10 23:00:00  1739.7  1740.9\n...      ...   ...                 ...     ...     ...\n24139     12     1 1991-04-18 23:00:00    10.5    36.0\n24131     11     1 1991-04-11 23:00:00    67.5    69.0\n24132     11     1 1991-04-11 23:00:00    69.0    70.5\n24130      9     0 2007-09-28 23:00:00    37.0    42.0\n24129      9     1 1990-09-03 23:00:00    37.0    42.0\n\n[54260 rows x 5 columns]",
      "text/html": "<div>\n<style scoped>\n    .dataframe tbody tr th:only-of-type {\n        vertical-align: middle;\n    }\n\n    .dataframe tbody tr th {\n        vertical-align: top;\n    }\n\n    .dataframe thead th {\n        text-align: right;\n    }\n</style>\n<table border=\"1\" class=\"dataframe\">\n  <thead>\n    <tr style=\"text-align: right;\">\n      <th></th>\n      <th>well</th>\n      <th>type</th>\n      <th>date</th>\n      <th>top</th>\n      <th>bot</th>\n    </tr>\n  </thead>\n  <tbody>\n    <tr>\n      <th>48492</th>\n      <td>9642д</td>\n      <td>1</td>\n      <td>1991-03-11 00:00:00</td>\n      <td>1316.0</td>\n      <td>1340.5</td>\n    </tr>\n    <tr>\n      <th>48491</th>\n      <td>9642д</td>\n      <td>0</td>\n      <td>1991-03-10 00:00:00</td>\n      <td>1676.8</td>\n      <td>1679.8</td>\n    </tr>\n    <tr>\n      <th>48490</th>\n      <td>9642д</td>\n      <td>1</td>\n      <td>1982-01-16 00:00:00</td>\n      <td>1676.8</td>\n      <td>1679.8</td>\n    </tr>\n    <tr>\n      <th>54866</th>\n      <td>9636</td>\n      <td>1</td>\n      <td>2003-09-10 23:00:00</td>\n      <td>1736.0</td>\n      <td>1738.0</td>\n    </tr>\n    <tr>\n      <th>54867</th>\n      <td>9636</td>\n      <td>1</td>\n      <td>2003-09-10 23:00:00</td>\n      <td>1739.7</td>\n      <td>1740.9</td>\n    </tr>\n    <tr>\n      <th>...</th>\n      <td>...</td>\n      <td>...</td>\n      <td>...</td>\n      <td>...</td>\n      <td>...</td>\n    </tr>\n    <tr>\n      <th>24139</th>\n      <td>12</td>\n      <td>1</td>\n      <td>1991-04-18 23:00:00</td>\n      <td>10.5</td>\n      <td>36.0</td>\n    </tr>\n    <tr>\n      <th>24131</th>\n      <td>11</td>\n      <td>1</td>\n      <td>1991-04-11 23:00:00</td>\n      <td>67.5</td>\n      <td>69.0</td>\n    </tr>\n    <tr>\n      <th>24132</th>\n      <td>11</td>\n      <td>1</td>\n      <td>1991-04-11 23:00:00</td>\n      <td>69.0</td>\n      <td>70.5</td>\n    </tr>\n    <tr>\n      <th>24130</th>\n      <td>9</td>\n      <td>0</td>\n      <td>2007-09-28 23:00:00</td>\n      <td>37.0</td>\n      <td>42.0</td>\n    </tr>\n    <tr>\n      <th>24129</th>\n      <td>9</td>\n      <td>1</td>\n      <td>1990-09-03 23:00:00</td>\n      <td>37.0</td>\n      <td>42.0</td>\n    </tr>\n  </tbody>\n</table>\n<p>54260 rows × 5 columns</p>\n</div>"
     },
     "execution_count": 6,
     "metadata": {},
     "output_type": "execute_result"
    }
   ],
   "source": [
    "perf_df"
   ]
  },
  {
   "cell_type": "code",
   "execution_count": 8,
   "metadata": {},
   "outputs": [],
   "source": [
    "perf_df['date'] = perf_df['date'].dt.date"
   ]
  },
  {
   "cell_type": "code",
   "execution_count": 11,
   "outputs": [
    {
     "data": {
      "text/plain": "2002"
     },
     "execution_count": 11,
     "metadata": {},
     "output_type": "execute_result"
    }
   ],
   "source": [
    "perf_df.loc[0, 'date'].year"
   ],
   "metadata": {
    "collapsed": false,
    "pycharm": {
     "name": "#%%\n"
    }
   }
  },
  {
   "cell_type": "code",
   "execution_count": 25,
   "outputs": [],
   "source": [
    "\n",
    "datetime2 = date(year=2002, month=1, day=1)"
   ],
   "metadata": {
    "collapsed": false,
    "pycharm": {
     "name": "#%%\n"
    }
   }
  },
  {
   "cell_type": "code",
   "execution_count": 26,
   "outputs": [
    {
     "data": {
      "text/plain": "        well  type        date     top     bot\n48492  9642д     1  1991-03-11  1316.0  1340.5\n48491  9642д     0  1991-03-10  1676.8  1679.8\n48490  9642д     1  1982-01-16  1676.8  1679.8\n54864   9636     1  2001-09-18  1736.2  1738.1\n54865   9636     1  2001-09-18  1739.7  1740.9\n...      ...   ...         ...     ...     ...\n24140     13     1  1991-05-07    45.0    65.0\n24139     12     1  1991-04-18    10.5    36.0\n24131     11     1  1991-04-11    67.5    69.0\n24132     11     1  1991-04-11    69.0    70.5\n24129      9     1  1990-09-03    37.0    42.0\n\n[25414 rows x 5 columns]",
      "text/html": "<div>\n<style scoped>\n    .dataframe tbody tr th:only-of-type {\n        vertical-align: middle;\n    }\n\n    .dataframe tbody tr th {\n        vertical-align: top;\n    }\n\n    .dataframe thead th {\n        text-align: right;\n    }\n</style>\n<table border=\"1\" class=\"dataframe\">\n  <thead>\n    <tr style=\"text-align: right;\">\n      <th></th>\n      <th>well</th>\n      <th>type</th>\n      <th>date</th>\n      <th>top</th>\n      <th>bot</th>\n    </tr>\n  </thead>\n  <tbody>\n    <tr>\n      <th>48492</th>\n      <td>9642д</td>\n      <td>1</td>\n      <td>1991-03-11</td>\n      <td>1316.0</td>\n      <td>1340.5</td>\n    </tr>\n    <tr>\n      <th>48491</th>\n      <td>9642д</td>\n      <td>0</td>\n      <td>1991-03-10</td>\n      <td>1676.8</td>\n      <td>1679.8</td>\n    </tr>\n    <tr>\n      <th>48490</th>\n      <td>9642д</td>\n      <td>1</td>\n      <td>1982-01-16</td>\n      <td>1676.8</td>\n      <td>1679.8</td>\n    </tr>\n    <tr>\n      <th>54864</th>\n      <td>9636</td>\n      <td>1</td>\n      <td>2001-09-18</td>\n      <td>1736.2</td>\n      <td>1738.1</td>\n    </tr>\n    <tr>\n      <th>54865</th>\n      <td>9636</td>\n      <td>1</td>\n      <td>2001-09-18</td>\n      <td>1739.7</td>\n      <td>1740.9</td>\n    </tr>\n    <tr>\n      <th>...</th>\n      <td>...</td>\n      <td>...</td>\n      <td>...</td>\n      <td>...</td>\n      <td>...</td>\n    </tr>\n    <tr>\n      <th>24140</th>\n      <td>13</td>\n      <td>1</td>\n      <td>1991-05-07</td>\n      <td>45.0</td>\n      <td>65.0</td>\n    </tr>\n    <tr>\n      <th>24139</th>\n      <td>12</td>\n      <td>1</td>\n      <td>1991-04-18</td>\n      <td>10.5</td>\n      <td>36.0</td>\n    </tr>\n    <tr>\n      <th>24131</th>\n      <td>11</td>\n      <td>1</td>\n      <td>1991-04-11</td>\n      <td>67.5</td>\n      <td>69.0</td>\n    </tr>\n    <tr>\n      <th>24132</th>\n      <td>11</td>\n      <td>1</td>\n      <td>1991-04-11</td>\n      <td>69.0</td>\n      <td>70.5</td>\n    </tr>\n    <tr>\n      <th>24129</th>\n      <td>9</td>\n      <td>1</td>\n      <td>1990-09-03</td>\n      <td>37.0</td>\n      <td>42.0</td>\n    </tr>\n  </tbody>\n</table>\n<p>25414 rows × 5 columns</p>\n</div>"
     },
     "execution_count": 26,
     "metadata": {},
     "output_type": "execute_result"
    }
   ],
   "source": [
    "perf_df.drop(perf_df[perf_df['date'] > datetime2].index)"
   ],
   "metadata": {
    "collapsed": false,
    "pycharm": {
     "name": "#%%\n"
    }
   }
  },
  {
   "cell_type": "code",
   "execution_count": null,
   "outputs": [],
   "source": [],
   "metadata": {
    "collapsed": false,
    "pycharm": {
     "name": "#%%\n"
    }
   }
  }
 ],
 "metadata": {
  "kernelspec": {
   "name": "pycharm-2664e013",
   "language": "python",
   "display_name": "PyCharm (lost_plast)"
  },
  "language_info": {
   "codemirror_mode": {
    "name": "ipython",
    "version": 3
   },
   "file_extension": ".py",
   "mimetype": "text/x-python",
   "name": "python",
   "nbconvert_exporter": "python",
   "pygments_lexer": "ipython3",
   "version": "3.6.9"
  }
 },
 "nbformat": 4,
 "nbformat_minor": 5
}