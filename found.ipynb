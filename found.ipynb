{
 "cells": [
  {
   "cell_type": "code",
   "execution_count": 2,
   "metadata": {
    "pycharm": {
     "name": "#%%\n"
    }
   },
   "outputs": [],
   "source": [
    "import pandas as pd\n",
    "import sys\n",
    "from data_reader import fes_reader, perf_reader\n",
    "from tqdm import tqdm\n",
    "import numpy as np"
   ]
  },
  {
   "cell_type": "code",
   "execution_count": 3,
   "metadata": {
    "pycharm": {
     "name": "#%%\n"
    }
   },
   "outputs": [],
   "source": [
    "# конвертация путей файлов в зависимости от системы\n",
    "def replace_slash(file_path):\n",
    "    platform = sys.platform\n",
    "    slash_map = {'win32': '\\\\',\n",
    "                'cygwin': '\\\\',\n",
    "                'darwin': '/',\n",
    "                'linux2': '/'}\n",
    "    if platform not in slash_map.keys(): platform = 'linux2'\n",
    "    return file_path.replace('\\\\', slash_map[platform])"
   ]
  },
  {
   "cell_type": "code",
   "execution_count": 4,
   "metadata": {},
   "outputs": [],
   "source": [
    "perf_path = replace_slash('input_data\\\\Перфорация.xlsx')\n",
    "fes_path = replace_slash('input_data\\\\ФЕС.xlsx')"
   ]
  },
  {
   "cell_type": "code",
   "execution_count": 5,
   "metadata": {},
   "outputs": [],
   "source": [
    "perf_ints, perf_df = perf_reader(perf_path)\n",
    "fes_df = fes_reader(fes_path)\n",
    "SOIL_CUT = 60"
   ]
  },
  {
   "cell_type": "code",
   "execution_count": 6,
   "metadata": {},
   "outputs": [
    {
     "data": {
      "text/plain": "       well          top          bot  нас-ть     пор-ть     прон-ть  \\\n0     10063  1719.199951  1722.799951    26.0  18.799999  266.600006   \n1     10063  1722.799951  1733.800049     NaN        NaN         NaN   \n2     10063  1733.800049  1738.800049    26.0  17.299999  184.199997   \n3     10063  1738.800049  1741.599976     NaN        NaN         NaN   \n4     10063  1741.599976  1742.799976    26.0  16.500000  122.000000   \n...     ...          ...          ...     ...        ...         ...   \n2583    689  1580.000000  1581.199951     NaN        NaN         NaN   \n2584    689  1581.199951  1582.399951    26.0  13.100000   30.000000   \n2585    689  1582.399951  1590.400024     NaN        NaN         NaN   \n2586    689  1590.400024  1593.800025    26.0  18.900000  230.000000   \n2587    689  1593.800049  1597.200049    26.0  18.900000  230.000000   \n\n           soil  \n0     78.400002  \n1           NaN  \n2     74.699997  \n3           NaN  \n4     79.000000  \n...         ...  \n2583        NaN  \n2584  74.000000  \n2585        NaN  \n2586  82.000000  \n2587  82.000000  \n\n[2588 rows x 7 columns]",
      "text/html": "<div>\n<style scoped>\n    .dataframe tbody tr th:only-of-type {\n        vertical-align: middle;\n    }\n\n    .dataframe tbody tr th {\n        vertical-align: top;\n    }\n\n    .dataframe thead th {\n        text-align: right;\n    }\n</style>\n<table border=\"1\" class=\"dataframe\">\n  <thead>\n    <tr style=\"text-align: right;\">\n      <th></th>\n      <th>well</th>\n      <th>top</th>\n      <th>bot</th>\n      <th>нас-ть</th>\n      <th>пор-ть</th>\n      <th>прон-ть</th>\n      <th>soil</th>\n    </tr>\n  </thead>\n  <tbody>\n    <tr>\n      <th>0</th>\n      <td>10063</td>\n      <td>1719.199951</td>\n      <td>1722.799951</td>\n      <td>26.0</td>\n      <td>18.799999</td>\n      <td>266.600006</td>\n      <td>78.400002</td>\n    </tr>\n    <tr>\n      <th>1</th>\n      <td>10063</td>\n      <td>1722.799951</td>\n      <td>1733.800049</td>\n      <td>NaN</td>\n      <td>NaN</td>\n      <td>NaN</td>\n      <td>NaN</td>\n    </tr>\n    <tr>\n      <th>2</th>\n      <td>10063</td>\n      <td>1733.800049</td>\n      <td>1738.800049</td>\n      <td>26.0</td>\n      <td>17.299999</td>\n      <td>184.199997</td>\n      <td>74.699997</td>\n    </tr>\n    <tr>\n      <th>3</th>\n      <td>10063</td>\n      <td>1738.800049</td>\n      <td>1741.599976</td>\n      <td>NaN</td>\n      <td>NaN</td>\n      <td>NaN</td>\n      <td>NaN</td>\n    </tr>\n    <tr>\n      <th>4</th>\n      <td>10063</td>\n      <td>1741.599976</td>\n      <td>1742.799976</td>\n      <td>26.0</td>\n      <td>16.500000</td>\n      <td>122.000000</td>\n      <td>79.000000</td>\n    </tr>\n    <tr>\n      <th>...</th>\n      <td>...</td>\n      <td>...</td>\n      <td>...</td>\n      <td>...</td>\n      <td>...</td>\n      <td>...</td>\n      <td>...</td>\n    </tr>\n    <tr>\n      <th>2583</th>\n      <td>689</td>\n      <td>1580.000000</td>\n      <td>1581.199951</td>\n      <td>NaN</td>\n      <td>NaN</td>\n      <td>NaN</td>\n      <td>NaN</td>\n    </tr>\n    <tr>\n      <th>2584</th>\n      <td>689</td>\n      <td>1581.199951</td>\n      <td>1582.399951</td>\n      <td>26.0</td>\n      <td>13.100000</td>\n      <td>30.000000</td>\n      <td>74.000000</td>\n    </tr>\n    <tr>\n      <th>2585</th>\n      <td>689</td>\n      <td>1582.399951</td>\n      <td>1590.400024</td>\n      <td>NaN</td>\n      <td>NaN</td>\n      <td>NaN</td>\n      <td>NaN</td>\n    </tr>\n    <tr>\n      <th>2586</th>\n      <td>689</td>\n      <td>1590.400024</td>\n      <td>1593.800025</td>\n      <td>26.0</td>\n      <td>18.900000</td>\n      <td>230.000000</td>\n      <td>82.000000</td>\n    </tr>\n    <tr>\n      <th>2587</th>\n      <td>689</td>\n      <td>1593.800049</td>\n      <td>1597.200049</td>\n      <td>26.0</td>\n      <td>18.900000</td>\n      <td>230.000000</td>\n      <td>82.000000</td>\n    </tr>\n  </tbody>\n</table>\n<p>2588 rows × 7 columns</p>\n</div>"
     },
     "execution_count": 6,
     "metadata": {},
     "output_type": "execute_result"
    }
   ],
   "source": [
    "fes_df"
   ]
  },
  {
   "cell_type": "code",
   "execution_count": null,
   "outputs": [],
   "source": [
    "def is_perf(top, bot, ints):\n",
    "    if ints is None:\n",
    "        return False\n",
    "    for int_perf in ints:\n",
    "        if (top <= int_perf['top'] <= bot) or (top <= int_perf['bot'] <= bot):\n",
    "            return True\n",
    "        elif (top >= int_perf['top']) and (int_perf['bot'] >= bot):\n",
    "            return True\n",
    "    return False\n"
   ],
   "metadata": {
    "collapsed": false,
    "pycharm": {
     "name": "#%%\n"
    }
   }
  },
  {
   "cell_type": "code",
   "execution_count": null,
   "metadata": {},
   "outputs": [],
   "source": [
    "lost_layers = pd.DataFrame(columns=['well', 'top', 'bot', 'soil', 'is_perf'])\n",
    "for well in tqdm(fes_df['well'].unique()):\n",
    "    well_df = fes_df[fes_df['well'] == well][['well', 'top', 'bot', 'soil']]\n",
    "    well_df.dropna(inplace=True)\n",
    "    ints = perf_ints.get(well)\n",
    "    well_df['is_perf'] = well_df.apply(lambda x: is_perf(x['top'], x['bot'], ints), axis=1)\n",
    "    non_perf = well_df[(well_df['is_perf'] == False) & (well_df['soil'] > SOIL_CUT)]\n",
    "    lost_layers = lost_layers.append(non_perf, ignore_index=True)"
   ]
  },
  {
   "cell_type": "code",
   "execution_count": null,
   "metadata": {},
   "outputs": [],
   "source": [
    "lost_layers\n"
   ]
  },
  {
   "cell_type": "code",
   "execution_count": 10,
   "metadata": {},
   "outputs": [
    {
     "data": {
      "text/plain": "       well       date    тип перфорации тип перфоратора  число отверстий  \\\n710     271 1953-03-18      ПЕРВИЧ.ПЕРФ.    Кумулятивная               40   \n711     271 1953-03-18      ПЕРВИЧ.ПЕРФ.    Кумулятивная              158   \n712     271 1953-03-18      ПЕРВИЧ.ПЕРФ.    Кумулятивная              158   \n713     271 1953-03-18      ПЕРВИЧ.ПЕРФ.    Кумулятивная              158   \n714     271 1957-08-07      ПЕРВИЧ.ПЕРФ.    Кумулятивная               60   \n...     ...        ...               ...             ...              ...   \n1361  32488 2011-11-28      ПЕРВИЧ.ПЕРФ.    Кумулятивная               25   \n1362  32488 2013-10-24         ПЕРЕСТРЕЛ    Кумулятивная               40   \n1363  32488 2013-10-26  Перфорация с ОПЗ             NaN                0   \n1364  32488 2017-05-21  Перфорация с ГРП             NaN                0   \n1365  32488 2019-02-07  Перфорация с ГРП             NaN                0   \n\n              top          bot  плотность перфорации, отв/м type  \n710   1617.000000  1619.800049                           14   Да  \n711   1620.800049  1629.000000                           19   Да  \n712   1620.800049  1629.000000                           19   Да  \n713   1620.800049  1629.000000                           19   Да  \n714   1609.000000  1612.000000                           20   Да  \n...           ...          ...                          ...  ...  \n1361  1734.000000  1736.000000                           12   Да  \n1362  1734.000000  1736.000000                           20   Да  \n1363  1734.000000  1736.000000                            0   Да  \n1364  1734.000000  1736.000000                            0   Да  \n1365  1734.000000  1736.000000                            0   Да  \n\n[1480 rows x 9 columns]",
      "text/html": "<div>\n<style scoped>\n    .dataframe tbody tr th:only-of-type {\n        vertical-align: middle;\n    }\n\n    .dataframe tbody tr th {\n        vertical-align: top;\n    }\n\n    .dataframe thead th {\n        text-align: right;\n    }\n</style>\n<table border=\"1\" class=\"dataframe\">\n  <thead>\n    <tr style=\"text-align: right;\">\n      <th></th>\n      <th>well</th>\n      <th>date</th>\n      <th>тип перфорации</th>\n      <th>тип перфоратора</th>\n      <th>число отверстий</th>\n      <th>top</th>\n      <th>bot</th>\n      <th>плотность перфорации, отв/м</th>\n      <th>type</th>\n    </tr>\n  </thead>\n  <tbody>\n    <tr>\n      <th>710</th>\n      <td>271</td>\n      <td>1953-03-18</td>\n      <td>ПЕРВИЧ.ПЕРФ.</td>\n      <td>Кумулятивная</td>\n      <td>40</td>\n      <td>1617.000000</td>\n      <td>1619.800049</td>\n      <td>14</td>\n      <td>Да</td>\n    </tr>\n    <tr>\n      <th>711</th>\n      <td>271</td>\n      <td>1953-03-18</td>\n      <td>ПЕРВИЧ.ПЕРФ.</td>\n      <td>Кумулятивная</td>\n      <td>158</td>\n      <td>1620.800049</td>\n      <td>1629.000000</td>\n      <td>19</td>\n      <td>Да</td>\n    </tr>\n    <tr>\n      <th>712</th>\n      <td>271</td>\n      <td>1953-03-18</td>\n      <td>ПЕРВИЧ.ПЕРФ.</td>\n      <td>Кумулятивная</td>\n      <td>158</td>\n      <td>1620.800049</td>\n      <td>1629.000000</td>\n      <td>19</td>\n      <td>Да</td>\n    </tr>\n    <tr>\n      <th>713</th>\n      <td>271</td>\n      <td>1953-03-18</td>\n      <td>ПЕРВИЧ.ПЕРФ.</td>\n      <td>Кумулятивная</td>\n      <td>158</td>\n      <td>1620.800049</td>\n      <td>1629.000000</td>\n      <td>19</td>\n      <td>Да</td>\n    </tr>\n    <tr>\n      <th>714</th>\n      <td>271</td>\n      <td>1957-08-07</td>\n      <td>ПЕРВИЧ.ПЕРФ.</td>\n      <td>Кумулятивная</td>\n      <td>60</td>\n      <td>1609.000000</td>\n      <td>1612.000000</td>\n      <td>20</td>\n      <td>Да</td>\n    </tr>\n    <tr>\n      <th>...</th>\n      <td>...</td>\n      <td>...</td>\n      <td>...</td>\n      <td>...</td>\n      <td>...</td>\n      <td>...</td>\n      <td>...</td>\n      <td>...</td>\n      <td>...</td>\n    </tr>\n    <tr>\n      <th>1361</th>\n      <td>32488</td>\n      <td>2011-11-28</td>\n      <td>ПЕРВИЧ.ПЕРФ.</td>\n      <td>Кумулятивная</td>\n      <td>25</td>\n      <td>1734.000000</td>\n      <td>1736.000000</td>\n      <td>12</td>\n      <td>Да</td>\n    </tr>\n    <tr>\n      <th>1362</th>\n      <td>32488</td>\n      <td>2013-10-24</td>\n      <td>ПЕРЕСТРЕЛ</td>\n      <td>Кумулятивная</td>\n      <td>40</td>\n      <td>1734.000000</td>\n      <td>1736.000000</td>\n      <td>20</td>\n      <td>Да</td>\n    </tr>\n    <tr>\n      <th>1363</th>\n      <td>32488</td>\n      <td>2013-10-26</td>\n      <td>Перфорация с ОПЗ</td>\n      <td>NaN</td>\n      <td>0</td>\n      <td>1734.000000</td>\n      <td>1736.000000</td>\n      <td>0</td>\n      <td>Да</td>\n    </tr>\n    <tr>\n      <th>1364</th>\n      <td>32488</td>\n      <td>2017-05-21</td>\n      <td>Перфорация с ГРП</td>\n      <td>NaN</td>\n      <td>0</td>\n      <td>1734.000000</td>\n      <td>1736.000000</td>\n      <td>0</td>\n      <td>Да</td>\n    </tr>\n    <tr>\n      <th>1365</th>\n      <td>32488</td>\n      <td>2019-02-07</td>\n      <td>Перфорация с ГРП</td>\n      <td>NaN</td>\n      <td>0</td>\n      <td>1734.000000</td>\n      <td>1736.000000</td>\n      <td>0</td>\n      <td>Да</td>\n    </tr>\n  </tbody>\n</table>\n<p>1480 rows × 9 columns</p>\n</div>"
     },
     "execution_count": 10,
     "metadata": {},
     "output_type": "execute_result"
    }
   ],
   "source": [
    "perf_df\n"
   ]
  },
  {
   "cell_type": "code",
   "execution_count": 7,
   "outputs": [],
   "source": [
    "well_df = perf_df[perf_df['well'] == perf_df['well'].unique()[0]]"
   ],
   "metadata": {
    "collapsed": false,
    "pycharm": {
     "name": "#%%\n"
    }
   }
  },
  {
   "cell_type": "code",
   "execution_count": 9,
   "outputs": [
    {
     "data": {
      "text/plain": "       well       date    тип перфорации тип перфоратора  число отверстий  \\\n710     271 1953-03-18      ПЕРВИЧ.ПЕРФ.    Кумулятивная               40   \n711     271 1953-03-18      ПЕРВИЧ.ПЕРФ.    Кумулятивная              158   \n712     271 1953-03-18      ПЕРВИЧ.ПЕРФ.    Кумулятивная              158   \n713     271 1953-03-18      ПЕРВИЧ.ПЕРФ.    Кумулятивная              158   \n714     271 1957-08-07      ПЕРВИЧ.ПЕРФ.    Кумулятивная               60   \n...     ...        ...               ...             ...              ...   \n1361  32488 2011-11-28      ПЕРВИЧ.ПЕРФ.    Кумулятивная               25   \n1362  32488 2013-10-24         ПЕРЕСТРЕЛ    Кумулятивная               40   \n1363  32488 2013-10-26  Перфорация с ОПЗ             NaN                0   \n1364  32488 2017-05-21  Перфорация с ГРП             NaN                0   \n1365  32488 2019-02-07  Перфорация с ГРП             NaN                0   \n\n         top     bot  плотность перфорации, отв/м type  \n710   1617.0  1619.8                           14   Да  \n711   1620.8  1629.0                           19   Да  \n712   1620.8  1629.0                           19   Да  \n713   1620.8  1629.0                           19   Да  \n714   1609.0  1612.0                           20   Да  \n...      ...     ...                          ...  ...  \n1361  1734.0  1736.0                           12   Да  \n1362  1734.0  1736.0                           20   Да  \n1363  1734.0  1736.0                            0   Да  \n1364  1734.0  1736.0                            0   Да  \n1365  1734.0  1736.0                            0   Да  \n\n[1480 rows x 9 columns]",
      "text/html": "<div>\n<style scoped>\n    .dataframe tbody tr th:only-of-type {\n        vertical-align: middle;\n    }\n\n    .dataframe tbody tr th {\n        vertical-align: top;\n    }\n\n    .dataframe thead th {\n        text-align: right;\n    }\n</style>\n<table border=\"1\" class=\"dataframe\">\n  <thead>\n    <tr style=\"text-align: right;\">\n      <th></th>\n      <th>well</th>\n      <th>date</th>\n      <th>тип перфорации</th>\n      <th>тип перфоратора</th>\n      <th>число отверстий</th>\n      <th>top</th>\n      <th>bot</th>\n      <th>плотность перфорации, отв/м</th>\n      <th>type</th>\n    </tr>\n  </thead>\n  <tbody>\n    <tr>\n      <th>710</th>\n      <td>271</td>\n      <td>1953-03-18</td>\n      <td>ПЕРВИЧ.ПЕРФ.</td>\n      <td>Кумулятивная</td>\n      <td>40</td>\n      <td>1617.0</td>\n      <td>1619.8</td>\n      <td>14</td>\n      <td>Да</td>\n    </tr>\n    <tr>\n      <th>711</th>\n      <td>271</td>\n      <td>1953-03-18</td>\n      <td>ПЕРВИЧ.ПЕРФ.</td>\n      <td>Кумулятивная</td>\n      <td>158</td>\n      <td>1620.8</td>\n      <td>1629.0</td>\n      <td>19</td>\n      <td>Да</td>\n    </tr>\n    <tr>\n      <th>712</th>\n      <td>271</td>\n      <td>1953-03-18</td>\n      <td>ПЕРВИЧ.ПЕРФ.</td>\n      <td>Кумулятивная</td>\n      <td>158</td>\n      <td>1620.8</td>\n      <td>1629.0</td>\n      <td>19</td>\n      <td>Да</td>\n    </tr>\n    <tr>\n      <th>713</th>\n      <td>271</td>\n      <td>1953-03-18</td>\n      <td>ПЕРВИЧ.ПЕРФ.</td>\n      <td>Кумулятивная</td>\n      <td>158</td>\n      <td>1620.8</td>\n      <td>1629.0</td>\n      <td>19</td>\n      <td>Да</td>\n    </tr>\n    <tr>\n      <th>714</th>\n      <td>271</td>\n      <td>1957-08-07</td>\n      <td>ПЕРВИЧ.ПЕРФ.</td>\n      <td>Кумулятивная</td>\n      <td>60</td>\n      <td>1609.0</td>\n      <td>1612.0</td>\n      <td>20</td>\n      <td>Да</td>\n    </tr>\n    <tr>\n      <th>...</th>\n      <td>...</td>\n      <td>...</td>\n      <td>...</td>\n      <td>...</td>\n      <td>...</td>\n      <td>...</td>\n      <td>...</td>\n      <td>...</td>\n      <td>...</td>\n    </tr>\n    <tr>\n      <th>1361</th>\n      <td>32488</td>\n      <td>2011-11-28</td>\n      <td>ПЕРВИЧ.ПЕРФ.</td>\n      <td>Кумулятивная</td>\n      <td>25</td>\n      <td>1734.0</td>\n      <td>1736.0</td>\n      <td>12</td>\n      <td>Да</td>\n    </tr>\n    <tr>\n      <th>1362</th>\n      <td>32488</td>\n      <td>2013-10-24</td>\n      <td>ПЕРЕСТРЕЛ</td>\n      <td>Кумулятивная</td>\n      <td>40</td>\n      <td>1734.0</td>\n      <td>1736.0</td>\n      <td>20</td>\n      <td>Да</td>\n    </tr>\n    <tr>\n      <th>1363</th>\n      <td>32488</td>\n      <td>2013-10-26</td>\n      <td>Перфорация с ОПЗ</td>\n      <td>NaN</td>\n      <td>0</td>\n      <td>1734.0</td>\n      <td>1736.0</td>\n      <td>0</td>\n      <td>Да</td>\n    </tr>\n    <tr>\n      <th>1364</th>\n      <td>32488</td>\n      <td>2017-05-21</td>\n      <td>Перфорация с ГРП</td>\n      <td>NaN</td>\n      <td>0</td>\n      <td>1734.0</td>\n      <td>1736.0</td>\n      <td>0</td>\n      <td>Да</td>\n    </tr>\n    <tr>\n      <th>1365</th>\n      <td>32488</td>\n      <td>2019-02-07</td>\n      <td>Перфорация с ГРП</td>\n      <td>NaN</td>\n      <td>0</td>\n      <td>1734.0</td>\n      <td>1736.0</td>\n      <td>0</td>\n      <td>Да</td>\n    </tr>\n  </tbody>\n</table>\n<p>1480 rows × 9 columns</p>\n</div>"
     },
     "execution_count": 9,
     "metadata": {},
     "output_type": "execute_result"
    }
   ],
   "source": [
    "perf_df.round({'top': 1, 'bot': 1})"
   ],
   "metadata": {
    "collapsed": false,
    "pycharm": {
     "name": "#%%\n"
    }
   }
  }
 ],
 "metadata": {
  "kernelspec": {
   "name": "pycharm-2664e013",
   "language": "python",
   "display_name": "PyCharm (lost_plast)"
  },
  "language_info": {
   "codemirror_mode": {
    "name": "ipython",
    "version": 3
   },
   "file_extension": ".py",
   "mimetype": "text/x-python",
   "name": "python",
   "nbconvert_exporter": "python",
   "pygments_lexer": "ipython3",
   "version": "3.6.9"
  }
 },
 "nbformat": 4,
 "nbformat_minor": 5
}