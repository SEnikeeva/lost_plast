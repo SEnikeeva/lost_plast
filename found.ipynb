{
 "cells": [
  {
   "cell_type": "code",
   "execution_count": 1,
   "metadata": {
    "pycharm": {
     "name": "#%%\n"
    }
   },
   "outputs": [],
   "source": [
    "import pandas as pd\n",
    "import sys\n",
    "from data_reader import fes_reader, perf_reader\n",
    "from tqdm import tqdm"
   ]
  },
  {
   "cell_type": "code",
   "execution_count": 2,
   "metadata": {
    "pycharm": {
     "name": "#%%\n"
    }
   },
   "outputs": [],
   "source": [
    "# конвертация путей файлов в зависимости от системы\n",
    "def replace_slash(file_path):\n",
    "    platform = sys.platform\n",
    "    slash_map = {'win32': '\\\\',\n",
    "                'cygwin': '\\\\',\n",
    "                'darwin': '/',\n",
    "                'linux2': '/'}\n",
    "    if platform not in slash_map.keys(): platform = 'linux2'\n",
    "    return file_path.replace('\\\\', slash_map[platform])"
   ]
  },
  {
   "cell_type": "code",
   "execution_count": 3,
   "metadata": {},
   "outputs": [],
   "source": [
    "perf_path = replace_slash('input_data\\\\Перфорация.xlsx')\n",
    "fes_path = replace_slash('input_data\\\\ФЕС.xlsx')"
   ]
  },
  {
   "cell_type": "code",
   "execution_count": 4,
   "metadata": {},
   "outputs": [],
   "source": [
    "perf_ints = perf_reader(perf_path)\n",
    "fes_df = fes_reader(fes_path)\n",
    "SOIL_CUT = 60"
   ]
  },
  {
   "cell_type": "code",
   "execution_count": 5,
   "metadata": {},
   "outputs": [
    {
     "data": {
      "text/plain": "       well          top          bot  нас-ть     пор-ть     прон-ть  \\\n0     10063  1719.199951  1722.799951    26.0  18.799999  266.600006   \n1     10063  1722.799951  1733.800049     NaN        NaN         NaN   \n2     10063  1733.800049  1738.800049    26.0  17.299999  184.199997   \n3     10063  1738.800049  1741.599976     NaN        NaN         NaN   \n4     10063  1741.599976  1742.799976    26.0  16.500000  122.000000   \n...     ...          ...          ...     ...        ...         ...   \n2583    689  1580.000000  1581.199951     NaN        NaN         NaN   \n2584    689  1581.199951  1582.399951    26.0  13.100000   30.000000   \n2585    689  1582.399951  1590.400024     NaN        NaN         NaN   \n2586    689  1590.400024  1593.800025    26.0  18.900000  230.000000   \n2587    689  1593.800049  1597.200049    26.0  18.900000  230.000000   \n\n           soil  \n0     78.400002  \n1           NaN  \n2     74.699997  \n3           NaN  \n4     79.000000  \n...         ...  \n2583        NaN  \n2584  74.000000  \n2585        NaN  \n2586  82.000000  \n2587  82.000000  \n\n[2588 rows x 7 columns]",
      "text/html": "<div>\n<style scoped>\n    .dataframe tbody tr th:only-of-type {\n        vertical-align: middle;\n    }\n\n    .dataframe tbody tr th {\n        vertical-align: top;\n    }\n\n    .dataframe thead th {\n        text-align: right;\n    }\n</style>\n<table border=\"1\" class=\"dataframe\">\n  <thead>\n    <tr style=\"text-align: right;\">\n      <th></th>\n      <th>well</th>\n      <th>top</th>\n      <th>bot</th>\n      <th>нас-ть</th>\n      <th>пор-ть</th>\n      <th>прон-ть</th>\n      <th>soil</th>\n    </tr>\n  </thead>\n  <tbody>\n    <tr>\n      <th>0</th>\n      <td>10063</td>\n      <td>1719.199951</td>\n      <td>1722.799951</td>\n      <td>26.0</td>\n      <td>18.799999</td>\n      <td>266.600006</td>\n      <td>78.400002</td>\n    </tr>\n    <tr>\n      <th>1</th>\n      <td>10063</td>\n      <td>1722.799951</td>\n      <td>1733.800049</td>\n      <td>NaN</td>\n      <td>NaN</td>\n      <td>NaN</td>\n      <td>NaN</td>\n    </tr>\n    <tr>\n      <th>2</th>\n      <td>10063</td>\n      <td>1733.800049</td>\n      <td>1738.800049</td>\n      <td>26.0</td>\n      <td>17.299999</td>\n      <td>184.199997</td>\n      <td>74.699997</td>\n    </tr>\n    <tr>\n      <th>3</th>\n      <td>10063</td>\n      <td>1738.800049</td>\n      <td>1741.599976</td>\n      <td>NaN</td>\n      <td>NaN</td>\n      <td>NaN</td>\n      <td>NaN</td>\n    </tr>\n    <tr>\n      <th>4</th>\n      <td>10063</td>\n      <td>1741.599976</td>\n      <td>1742.799976</td>\n      <td>26.0</td>\n      <td>16.500000</td>\n      <td>122.000000</td>\n      <td>79.000000</td>\n    </tr>\n    <tr>\n      <th>...</th>\n      <td>...</td>\n      <td>...</td>\n      <td>...</td>\n      <td>...</td>\n      <td>...</td>\n      <td>...</td>\n      <td>...</td>\n    </tr>\n    <tr>\n      <th>2583</th>\n      <td>689</td>\n      <td>1580.000000</td>\n      <td>1581.199951</td>\n      <td>NaN</td>\n      <td>NaN</td>\n      <td>NaN</td>\n      <td>NaN</td>\n    </tr>\n    <tr>\n      <th>2584</th>\n      <td>689</td>\n      <td>1581.199951</td>\n      <td>1582.399951</td>\n      <td>26.0</td>\n      <td>13.100000</td>\n      <td>30.000000</td>\n      <td>74.000000</td>\n    </tr>\n    <tr>\n      <th>2585</th>\n      <td>689</td>\n      <td>1582.399951</td>\n      <td>1590.400024</td>\n      <td>NaN</td>\n      <td>NaN</td>\n      <td>NaN</td>\n      <td>NaN</td>\n    </tr>\n    <tr>\n      <th>2586</th>\n      <td>689</td>\n      <td>1590.400024</td>\n      <td>1593.800025</td>\n      <td>26.0</td>\n      <td>18.900000</td>\n      <td>230.000000</td>\n      <td>82.000000</td>\n    </tr>\n    <tr>\n      <th>2587</th>\n      <td>689</td>\n      <td>1593.800049</td>\n      <td>1597.200049</td>\n      <td>26.0</td>\n      <td>18.900000</td>\n      <td>230.000000</td>\n      <td>82.000000</td>\n    </tr>\n  </tbody>\n</table>\n<p>2588 rows × 7 columns</p>\n</div>"
     },
     "execution_count": 5,
     "metadata": {},
     "output_type": "execute_result"
    }
   ],
   "source": [
    "fes_df"
   ]
  },
  {
   "cell_type": "code",
   "execution_count": 8,
   "outputs": [],
   "source": [
    "def is_perf(top, bot, ints):\n",
    "    if ints is None:\n",
    "        return False\n",
    "    for int_perf in ints:\n",
    "        if (top <= int_perf['top'] <= bot) or (top <= int_perf['bot'] <= bot):\n",
    "            return True\n",
    "        elif (top >= int_perf['top']) and (int_perf['bot'] >= bot):\n",
    "            return True\n",
    "    return False\n"
   ],
   "metadata": {
    "collapsed": false,
    "pycharm": {
     "name": "#%%\n"
    }
   }
  },
  {
   "cell_type": "code",
   "execution_count": 11,
   "metadata": {},
   "outputs": [
    {
     "name": "stderr",
     "output_type": "stream",
     "text": [
      "100%|██████████| 144/144 [00:00<00:00, 166.34it/s]\n"
     ]
    }
   ],
   "source": [
    "lost_layers = pd.DataFrame(columns=['well', 'top', 'bot', 'soil', 'is_perf'])\n",
    "for well in tqdm(fes_df['well'].unique()):\n",
    "    well_df = fes_df[fes_df['well'] == well][['well', 'top', 'bot', 'soil']]\n",
    "    well_df.dropna(inplace=True)\n",
    "    ints = perf_ints.get(well)\n",
    "    well_df['is_perf'] = well_df.apply(lambda x: is_perf(x['top'], x['bot'], ints), axis=1)\n",
    "    non_perf = well_df[(well_df['is_perf'] == False) & (well_df['soil'] > SOIL_CUT)]\n",
    "    lost_layers = lost_layers.append(non_perf, ignore_index=True)"
   ]
  },
  {
   "cell_type": "code",
   "execution_count": 12,
   "metadata": {},
   "outputs": [
    {
     "data": {
      "text/plain": "      well          top          bot       soil is_perf\n0    10063  1754.599976  1755.799976  61.000000   False\n1    10063  1767.199951  1767.999951  62.000000   False\n2    10066  1617.199951  1619.399951  76.500000   False\n3    10066  1682.599976  1683.399976  74.099998   False\n4    10066  1684.400024  1686.200024  76.300003   False\n..     ...          ...          ...        ...     ...\n246  32488  1743.400024  1744.000024  76.599998   False\n247  32488  1745.199951  1745.999951  75.800003   False\n248    418  1663.599976  1665.999976  80.000000   False\n249    522  1588.000000  1590.800000  70.000000   False\n250    689  1555.000000  1557.000000  70.000000   False\n\n[251 rows x 5 columns]",
      "text/html": "<div>\n<style scoped>\n    .dataframe tbody tr th:only-of-type {\n        vertical-align: middle;\n    }\n\n    .dataframe tbody tr th {\n        vertical-align: top;\n    }\n\n    .dataframe thead th {\n        text-align: right;\n    }\n</style>\n<table border=\"1\" class=\"dataframe\">\n  <thead>\n    <tr style=\"text-align: right;\">\n      <th></th>\n      <th>well</th>\n      <th>top</th>\n      <th>bot</th>\n      <th>soil</th>\n      <th>is_perf</th>\n    </tr>\n  </thead>\n  <tbody>\n    <tr>\n      <th>0</th>\n      <td>10063</td>\n      <td>1754.599976</td>\n      <td>1755.799976</td>\n      <td>61.000000</td>\n      <td>False</td>\n    </tr>\n    <tr>\n      <th>1</th>\n      <td>10063</td>\n      <td>1767.199951</td>\n      <td>1767.999951</td>\n      <td>62.000000</td>\n      <td>False</td>\n    </tr>\n    <tr>\n      <th>2</th>\n      <td>10066</td>\n      <td>1617.199951</td>\n      <td>1619.399951</td>\n      <td>76.500000</td>\n      <td>False</td>\n    </tr>\n    <tr>\n      <th>3</th>\n      <td>10066</td>\n      <td>1682.599976</td>\n      <td>1683.399976</td>\n      <td>74.099998</td>\n      <td>False</td>\n    </tr>\n    <tr>\n      <th>4</th>\n      <td>10066</td>\n      <td>1684.400024</td>\n      <td>1686.200024</td>\n      <td>76.300003</td>\n      <td>False</td>\n    </tr>\n    <tr>\n      <th>...</th>\n      <td>...</td>\n      <td>...</td>\n      <td>...</td>\n      <td>...</td>\n      <td>...</td>\n    </tr>\n    <tr>\n      <th>246</th>\n      <td>32488</td>\n      <td>1743.400024</td>\n      <td>1744.000024</td>\n      <td>76.599998</td>\n      <td>False</td>\n    </tr>\n    <tr>\n      <th>247</th>\n      <td>32488</td>\n      <td>1745.199951</td>\n      <td>1745.999951</td>\n      <td>75.800003</td>\n      <td>False</td>\n    </tr>\n    <tr>\n      <th>248</th>\n      <td>418</td>\n      <td>1663.599976</td>\n      <td>1665.999976</td>\n      <td>80.000000</td>\n      <td>False</td>\n    </tr>\n    <tr>\n      <th>249</th>\n      <td>522</td>\n      <td>1588.000000</td>\n      <td>1590.800000</td>\n      <td>70.000000</td>\n      <td>False</td>\n    </tr>\n    <tr>\n      <th>250</th>\n      <td>689</td>\n      <td>1555.000000</td>\n      <td>1557.000000</td>\n      <td>70.000000</td>\n      <td>False</td>\n    </tr>\n  </tbody>\n</table>\n<p>251 rows × 5 columns</p>\n</div>"
     },
     "execution_count": 12,
     "metadata": {},
     "output_type": "execute_result"
    }
   ],
   "source": [
    "lost_layers\n"
   ]
  },
  {
   "cell_type": "code",
   "execution_count": null,
   "metadata": {},
   "outputs": [],
   "source": []
  }
 ],
 "metadata": {
  "kernelspec": {
   "display_name": "Python 3",
   "language": "python",
   "name": "python3"
  },
  "language_info": {
   "codemirror_mode": {
    "name": "ipython",
    "version": 3
   },
   "file_extension": ".py",
   "mimetype": "text/x-python",
   "name": "python",
   "nbconvert_exporter": "python",
   "pygments_lexer": "ipython3",
   "version": "3.6.9"
  }
 },
 "nbformat": 4,
 "nbformat_minor": 5
}