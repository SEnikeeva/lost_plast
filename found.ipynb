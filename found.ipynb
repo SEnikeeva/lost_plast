{
 "cells": [
  {
   "cell_type": "code",
   "execution_count": 1,
   "metadata": {
    "pycharm": {
     "name": "#%%\n"
    }
   },
   "outputs": [],
   "source": [
    "import pandas as pd\n",
    "import sys\n",
    "from data_reader import DataReader, rename_columns\n",
    "from tqdm import tqdm\n",
    "import bisect\n",
    "import json\n",
    "import datetime\n",
    "\n",
    "import json\n",
    "import logging\n",
    "import os\n",
    "import sys\n",
    "from datetime import date\n",
    "\n",
    "from finder import find_layers\n",
    "from actual_perf import get_actual_perf\n",
    "from writexl import write_layers, write_act_perf\n",
    "pd.set_option('display.max_rows', 10000)\n",
    "pd.set_option('display.max_columns', 500)\n",
    "pd.set_option('display.width', 1000)"
   ]
  },
  {
   "cell_type": "code",
   "execution_count": 2,
   "metadata": {
    "pycharm": {
     "name": "#%%\n"
    }
   },
   "outputs": [],
   "source": [
    "# конвертация путей файлов в зависимости от системы\n",
    "def replace_slash(file_path):\n",
    "    platform = sys.platform\n",
    "    slash_map = {'win32': '\\\\',\n",
    "                 'cygwin': '\\\\',\n",
    "                 'darwin': '/',\n",
    "                 'linux2': '/'}\n",
    "    if platform not in slash_map.keys(): platform = 'linux2'\n",
    "    return file_path.replace('\\\\', slash_map[platform])\n",
    "\n",
    "\n",
    "# очистка папки output_folder\n",
    "def clear_out_folder(output_folder):\n",
    "    files = os.listdir(output_folder)\n",
    "    for f in files:\n",
    "        path_dir = replace_slash(output_folder + \"\\\\\" + f)\n",
    "        os.remove(path_dir)\n",
    "\n",
    "\n",
    "def get_year(conf_perf_year):\n",
    "    if conf_perf_year == '':\n",
    "        return None\n",
    "    try:\n",
    "        return date(year=int(conf_perf_year), month=1, day=1)\n",
    "    except:\n",
    "        return None\n",
    "\n",
    "def rename_columns(df):\n",
    "    col_names = {'well': '', 'top': '', 'bot': '',\n",
    "                 'soil': '', 'date': '', 'type': ''}\n",
    "    for column in df.columns.values:\n",
    "        if ('скв' in column) or ('skw_nam' in column) or (column == 'skw'):\n",
    "            col_names['well'] = column\n",
    "        elif ('verh' in column) or ('krow' == column) or ('верх' in column) or ('perf1_t' in column):\n",
    "            col_names['top'] = column\n",
    "        elif ('niz' in column) or ('podosh' in column) or ('низ' in column) or ('perf2_t' in column):\n",
    "            col_names['bot'] = column\n",
    "        elif ('nnas' in column) or ('н_нас' in column):\n",
    "            col_names['soil'] = column\n",
    "        elif ('дата_перф' in column) or (column == 'dat'):\n",
    "            col_names['date'] = column\n",
    "        elif ('цель' in column) or ('_cel' in column):\n",
    "            col_names['type'] = column\n",
    "    df.rename(columns={col_names['bot']: 'bot', col_names['top']: 'top',\n",
    "                       col_names['well']: 'well', col_names['soil']: 'soil',\n",
    "                       col_names['date']: 'date', col_names['type']: 'type'},\n",
    "              inplace=True)\n",
    "    col_names_set = set(df.columns)\n",
    "    df.drop(columns=list(col_names_set.difference(col_names.keys())),\n",
    "            inplace=True)"
   ]
  },
  {
   "cell_type": "code",
   "execution_count": 3,
   "metadata": {
    "pycharm": {
     "name": "#%%\n"
    }
   },
   "outputs": [
    {
     "name": "stdout",
     "output_type": "stream",
     "text": [
      "started reading perf xl\n",
      "done reading perf xl and started processing perf data\n",
      "started reading fes xl\n"
     ]
    },
    {
     "name": "stderr",
     "output_type": "stream",
     "text": [
      "100%|██████████| 1574/1574 [00:00<00:00, 58456.42it/s]\n",
      "100%|██████████| 1579/1579 [00:00<00:00, 41957.12it/s]"
     ]
    },
    {
     "name": "stdout",
     "output_type": "stream",
     "text": [
      "done reading fes xl\n",
      "done processing data\n"
     ]
    },
    {
     "name": "stderr",
     "output_type": "stream",
     "text": [
      "\n"
     ]
    }
   ],
   "source": [
    "input_folder = \"input_data\"\n",
    "out_folder = \"output_data\"\n",
    "output_path_l = replace_slash(out_folder + \"\\\\\" + \"non_perf_layers.xlsx\")\n",
    "output_path_a = replace_slash(out_folder + \"\\\\\" + \"act_perf.xlsx\")\n",
    "\n",
    "if not os.path.exists(out_folder):\n",
    "    os.makedirs(out_folder)\n",
    "else:\n",
    "    clear_out_folder(out_folder)\n",
    "\n",
    "out_path_log = replace_slash(out_folder + \"\\\\\" + \"Report.txt\")\n",
    "logging.basicConfig(format=u'%(levelname)-8s : %(message)s', filename=out_path_log, filemode='w')\n",
    "\n",
    "with open(\"config.json\", 'r') as f:\n",
    "    try:\n",
    "        conf = json.load(f)\n",
    "        SOIL_CUT = float(conf[\"SOIL_CUT\"])\n",
    "        perf_path = conf[\"perf_path\"]\n",
    "        fes_path = conf[\"fes_path\"]\n",
    "        act_perf_year = get_year(conf[\"act_perf_year\"])\n",
    "    except BaseException as e:\n",
    "        logging.error(\"Error loading config file. \" + str(e))\n",
    "        sys.exit()\n",
    "perf_path = replace_slash(input_folder + '\\\\' + perf_path)\n",
    "fes_path = replace_slash(input_folder + '\\\\' + fes_path)\n",
    "\n",
    "dr = DataReader()\n",
    "try:\n",
    "    perf_ints = dr.perf_reader(perf_path)\n",
    "except BaseException as e:\n",
    "    logging.error(\"Error loading perf file. \" + str(e))\n",
    "    sys.exit()\n",
    "try:\n",
    "    fes_dict = dr.fes_reader(fes_path)\n",
    "except BaseException as e:\n",
    "    logging.error(\"Error loading fes file. \" + str(e))\n",
    "    sys.exit()\n",
    "\n",
    "perf_rig_diff, rig_perf_diff = dr.well_diff()\n",
    "if len(perf_rig_diff) > 0:\n",
    "    logging.warning(\"These wells in perf file are absent in rigis \"\n",
    "                    + str(perf_rig_diff))\n",
    "if len(rig_perf_diff) > 0:\n",
    "    logging.warning(\"These wells in rigis file are absent in perf \"\n",
    "                    + str(rig_perf_diff))\n",
    "\n",
    "try:\n",
    "    lost_layers = find_layers(perf_ints, fes_dict, SOIL_CUT)\n",
    "except BaseException as e:\n",
    "    logging.error(\"Error while finding layers \" + str(e))\n",
    "    sys.exit()\n",
    "\n",
    "try:\n",
    "    act_perf = get_actual_perf(perf_ints, act_perf_year)\n",
    "except BaseException as e:\n",
    "    logging.error(\"Error while getting the actual perforation \" + str(e))\n",
    "    sys.exit()"
   ]
  },
  {
   "cell_type": "code",
   "execution_count": 4,
   "metadata": {
    "pycharm": {
     "name": "#%%\n"
    }
   },
   "outputs": [],
   "source": [
    "wells1 = list(dr.sl_wells)"
   ]
  },
  {
   "cell_type": "code",
   "execution_count": 5,
   "metadata": {
    "pycharm": {
     "name": "#%%\n"
    }
   },
   "outputs": [],
   "source": [
    "dr.sl_wells = set()"
   ]
  },
  {
   "cell_type": "code",
   "execution_count": 6,
   "metadata": {
    "pycharm": {
     "name": "#%%\n"
    }
   },
   "outputs": [],
   "source": [
    "wells2 = dr.sl_wells"
   ]
  },
  {
   "cell_type": "code",
   "execution_count": 8,
   "metadata": {},
   "outputs": [
    {
     "name": "stderr",
     "output_type": "stream",
     "text": [
      "100%|██████████| 6195/6195 [00:00<00:00, 7223.07it/s]\n",
      "100%|██████████| 3988/3988 [00:00<00:00, 64322.05it/s]\n",
      "100%|██████████| 4193/4193 [00:00<00:00, 62239.98it/s]\n",
      "100%|██████████| 4193/4193 [00:00<00:00, 27079.82it/s]\n"
     ]
    }
   ],
   "source": [
    "act_df = pd.read_json(json.dumps(act_perf))\n",
    "\n",
    "act_df2 =  pd.read_json('perf2.json')\n",
    "\n",
    "act_df2.rename(columns=lambda x: x.lower().strip(), inplace=True)\n",
    "\n",
    "rename_columns(act_df2)\n",
    "\n",
    "act_df2['well'] = act_df2['well'].apply(dr.well_renaming)\n",
    "act_df = act_df[act_df['perf_type'] == 1]\n",
    "act_df2.sort_values(by=['well', 'top', 'bot'], ascending=False, inplace=True)\n",
    "act_df.sort_values(by=['well', 'top', 'bot'], ascending=False, inplace=True)\n",
    "act_df.drop(act_df[act_df['top'] == act_df['bot']].index, inplace=True)\n",
    "act_df2.drop(act_df2[act_df2['top'] == act_df2['bot']].index, inplace=True)\n",
    "act_df.reset_index(drop=True, inplace=True)\n",
    "act_df2.reset_index(drop=True, inplace=True)\n",
    "del_idxs = []\n",
    "for i in tqdm(range(len(act_df2) - 1)):\n",
    "    if ((act_df2.loc[i, 'top'] == act_df2.loc[i + 1, 'bot']) or (act_df2.loc[i, 'top'] == act_df2.loc[i + 1, 'top'])) and (act_df2.loc[i, 'well'] == act_df2.loc[i + 1, 'well']):\n",
    "        act_df2.loc[i + 1, 'bot'] = act_df2.loc[i, 'bot']\n",
    "        del_idxs.append(i)\n",
    "act_df2.drop(del_idxs, inplace=True)\n",
    "act_df2.reset_index(drop=True, inplace=True)\n",
    "\n",
    "del_idxs = []\n",
    "for i in tqdm(range(len(act_df2) - 1)):\n",
    "    if (act_df2.loc[i, 'bot'] <= act_df2.loc[i + 1, 'bot']) and (act_df2.loc[i, 'well'] == act_df2.loc[i + 1, 'well']):\n",
    "        del_idxs.append(i)\n",
    "act_df2.drop(del_idxs, inplace=True)\n",
    "act_df2.reset_index(drop=True, inplace=True)\n",
    "\n",
    "del_idxs = []\n",
    "for i in tqdm(range(len(act_df) - 1)):\n",
    "    if (act_df.loc[i, 'bot'] <= act_df.loc[i + 1, 'bot']) and (act_df.loc[i, 'well'] == act_df.loc[i + 1, 'well']):\n",
    "        del_idxs.append(i)\n",
    "act_df.drop(del_idxs, inplace=True)\n",
    "act_df.reset_index(drop=True, inplace=True)\n",
    "\n",
    "del_idxs = []\n",
    "for i in tqdm(range(len(act_df) - 1)):\n",
    "    if ((act_df.loc[i, 'top'] == act_df.loc[i + 1, 'bot']) or (act_df.loc[i, 'top'] == act_df.loc[i + 1, 'top'])) and (act_df.loc[i, 'well'] == act_df.loc[i + 1, 'well']):\n",
    "        act_df.loc[i + 1, 'bot'] = act_df.loc[i, 'bot']\n",
    "        del_idxs.append(i)\n",
    "act_df.drop(del_idxs, inplace=True)\n",
    "act_df.reset_index(drop=True, inplace=True)\n",
    "\n",
    "                    \n",
    "len(list(set(act_df['well'].unique()).difference(act_df2['well'].unique())))\n",
    "\n",
    "len(list(set(act_df2['well'].unique()).difference(act_df['well'].unique())))\n",
    "\n",
    "act_df_intersec = act_df[act_df['well'].isin(act_df2['well'].unique())]\n",
    "\n",
    "act_df_diff = act_df_intersec[act_df_intersec['perf_type'] == 1][['well', 'top', 'bot']]\n",
    "\n",
    "diff = act_df_diff[~act_df_diff.apply(tuple,1).isin(act_df2.apply(tuple,1))]\n",
    "diff2 = act_df2[~act_df2.apply(tuple,1).isin(act_df_diff.apply(tuple,1))]"
   ]
  },
  {
   "cell_type": "code",
   "execution_count": 9,
   "metadata": {},
   "outputs": [
    {
     "name": "stdout",
     "output_type": "stream",
     "text": [
      "74\n",
      "12\n"
     ]
    }
   ],
   "source": [
    "print(len(diff))\n",
    "print(len(diff2))"
   ]
  },
  {
   "cell_type": "code",
   "execution_count": 10,
   "metadata": {},
   "outputs": [],
   "source": [
    "diff3 = pd.concat([act_df2, act_df_diff]).drop_duplicates(keep=False)"
   ]
  },
  {
   "cell_type": "code",
   "execution_count": 11,
   "metadata": {
    "scrolled": true
   },
   "outputs": [
    {
     "name": "stdout",
     "output_type": "stream",
     "text": [
      "74\n",
      "12\n",
      "86\n"
     ]
    }
   ],
   "source": [
    "print(len(diff))\n",
    "print(len(diff2))\n",
    "print(len(diff3))"
   ]
  },
  {
   "cell_type": "code",
   "execution_count": null,
   "metadata": {},
   "outputs": [],
   "source": [
    "diff.head(20)"
   ]
  },
  {
   "cell_type": "code",
   "execution_count": 12,
   "metadata": {},
   "outputs": [
    {
     "data": {
      "text/plain": "      well     top     bot\n739  32787  1636.0  1639.0\n740  32787  1630.3  1634.0\n741  32787  1624.0  1628.0",
      "text/html": "<div>\n<style scoped>\n    .dataframe tbody tr th:only-of-type {\n        vertical-align: middle;\n    }\n\n    .dataframe tbody tr th {\n        vertical-align: top;\n    }\n\n    .dataframe thead th {\n        text-align: right;\n    }\n</style>\n<table border=\"1\" class=\"dataframe\">\n  <thead>\n    <tr style=\"text-align: right;\">\n      <th></th>\n      <th>well</th>\n      <th>top</th>\n      <th>bot</th>\n    </tr>\n  </thead>\n  <tbody>\n    <tr>\n      <th>739</th>\n      <td>32787</td>\n      <td>1636.0</td>\n      <td>1639.0</td>\n    </tr>\n    <tr>\n      <th>740</th>\n      <td>32787</td>\n      <td>1630.3</td>\n      <td>1634.0</td>\n    </tr>\n    <tr>\n      <th>741</th>\n      <td>32787</td>\n      <td>1624.0</td>\n      <td>1628.0</td>\n    </tr>\n  </tbody>\n</table>\n</div>"
     },
     "execution_count": 12,
     "metadata": {},
     "output_type": "execute_result"
    }
   ],
   "source": [
    "act_df_diff[act_df_diff['well']=='32787']"
   ]
  },
  {
   "cell_type": "code",
   "execution_count": 13,
   "metadata": {},
   "outputs": [
    {
     "data": {
      "text/plain": "      well     top     bot\n721  32787  1636.0  1639.0\n722  32787  1630.3  1634.0\n723  32787  1624.0  1628.0",
      "text/html": "<div>\n<style scoped>\n    .dataframe tbody tr th:only-of-type {\n        vertical-align: middle;\n    }\n\n    .dataframe tbody tr th {\n        vertical-align: top;\n    }\n\n    .dataframe thead th {\n        text-align: right;\n    }\n</style>\n<table border=\"1\" class=\"dataframe\">\n  <thead>\n    <tr style=\"text-align: right;\">\n      <th></th>\n      <th>well</th>\n      <th>top</th>\n      <th>bot</th>\n    </tr>\n  </thead>\n  <tbody>\n    <tr>\n      <th>721</th>\n      <td>32787</td>\n      <td>1636.0</td>\n      <td>1639.0</td>\n    </tr>\n    <tr>\n      <th>722</th>\n      <td>32787</td>\n      <td>1630.3</td>\n      <td>1634.0</td>\n    </tr>\n    <tr>\n      <th>723</th>\n      <td>32787</td>\n      <td>1624.0</td>\n      <td>1628.0</td>\n    </tr>\n  </tbody>\n</table>\n</div>"
     },
     "execution_count": 13,
     "metadata": {},
     "output_type": "execute_result"
    }
   ],
   "source": [
    "act_df2[act_df2['well']=='32787']"
   ]
  },
  {
   "cell_type": "code",
   "execution_count": 14,
   "metadata": {},
   "outputs": [
    {
     "name": "stdout",
     "output_type": "stream",
     "text": [
      "['10829/1', '10829/2', '10877А/1', '10877А/2', '10897/1', '10897/2', '14933/1', '14933/2', '15286/2', '15632/1', '15632/2', '15693/1', '15693/2', '173/1', '173/2', '17761/1', '17761/2', '17765/1', '17765/2', '20176/1', '20176/2', '20201/1', '20201/2', '20224/1', '20224/2', '20306/1', '20306/2', '20334/1', '20334/2', '20336/2', '20337Д/1', '20337Д/2', '20341/1', '20341/2', '20451/1', '20451/2', '20613/1', '20613/2', '29589/1', '29589/2', '3187/1', '3187/2', '32642/2', '32665/1', '32665/2', '3451/1', '3451/2', '9517/1', '9517/2', '9526/1', '9526/2', '9555/1', '9616/1', '9616/2', '9616/3', '9618/1', '9618/2', '9636/1', '9636/2']\n"
     ]
    }
   ],
   "source": [
    "print(sorted(wells1))"
   ]
  },
  {
   "cell_type": "code",
   "execution_count": 15,
   "metadata": {},
   "outputs": [
    {
     "name": "stdout",
     "output_type": "stream",
     "text": [
      "60\n",
      "['10756', '10792', '10800', '10801', '10839', '10840', '10843', '1205', '1214', '145', '14936', '14937', '14942', '14963', '152', '153', '154', '16555', '179', '199', '20113', '20147', '20174', '20186', '20211а', '20323', '20359', '20408', '20414', '20415', '20454', '20508', '20531', '20635', '20645', '20648', '206д', '216д', '231', '242', '262', '270', '294', '3056', '3100', '3123', '3128', '3133', '3179', '3184', '3192', '32693', '3446', '3469', '3488д', '3682д', '440д', '9517', '9525', '9624']\n"
     ]
    }
   ],
   "source": [
    "diff_wells = diff3['well'].unique()\n",
    "print(len(diff_wells))\n",
    "print(sorted(diff_wells))"
   ]
  },
  {
   "cell_type": "code",
   "execution_count": 16,
   "metadata": {},
   "outputs": [
    {
     "name": "stdout",
     "output_type": "stream",
     "text": [
      "['10751Д/1', '10751Д/2', '10788/1', '10788/2', '10793/1', '10793/2', '10816А/1', '10816А/2', '10817/1', '10817/2', '10829/2', '10834А/1', '10834А/2', '10834Д/1', '10834Д/2', '10837/1', '10837/2', '10840/2', '10857/1', '10857/2', '10870/1', '10870/2', '10877А/2', '10892/1', '10892/2', '10897/2', '1205А/1', '1205А/2', '1207А/1', '1207А/2', '139Д/1', '139Д/2', '14898/1', '14898/2', '14900/1', '14900/2', '14904/1', '14904/2', '14906/1', '14906/2', '14916/1', '14916/2', '14922/1', '14922/2', '14924/1', '14924/2', '14933/2', '14936/2', '14940/1', '14940/2', '14942/2', '14953/1', '14953/2', '14957/1', '14957/2', '14992/1', '14992/2', '15286/2', '15632/2', '15693/2', '15756Д/1', '15756Д/2', '158/1', '158/2', '169Д/1', '169Д/2', '173/2', '176/1', '176/2', '176Д/1', '176Д/2', '17761/2', '17765/2', '20118/1', '20118/2', '20129/1', '20129/2', '20136/1', '20136/2', '20157/1', '20157/2', '20163/1', '20163/2', '20176/2', '20188/1', '20188/2', '20194/1', '20194/2', '20201/2', '20202/1', '20202/2', '20211А/1', '20224/2', '20229/1', '20229/2', '20255/1', '20255/2', '20258/1', '20258/2', '20271/1', '20271/2', '20285/1', '20285/2', '202Д/1', '202Д/2', '20306/2', '20323/1', '20323/2', '20324/1', '20324/2', '20328/1', '20328/2', '20334/2', '20336/2', '20337Д/2', '20341/2', '20361/1', '20361/2', '20362/1', '20362/2', '20390/1', '20390/2', '20393/1', '20393/2', '20400/1', '20400/2', '20404/1', '20404/2', '20443/1', '20443/2', '20444/1', '20444/2', '20451/2', '20475/1', '20475/2', '20477/1', '20477/2', '20482/1', '20482/2', '20491Д/1', '20491Д/2', '20499/1', '20499/2', '20512/1', '20512/2', '20525/1', '20525/2', '20530/1', '20530/2', '20531/1', '20532/1', '20532/2', '20535/1', '20535/2', '20586/1', '20586/2', '20590/1', '20590/2', '20593/1', '20593/2', '20594/1', '20594/2', '20595/1', '20595/2', '205Д/1', '205Д/2', '20601/1', '20601/2', '20613/2', '20614/1', '20614/2', '20617/1', '20617/2', '20627/1', '20627/2', '20636/1', '20636/2', '20638/1', '20638/2', '20644/1', '20644/2', '20645/1', '20645/2', '20648/2', '20649/1', '20649/2', '20661/1', '20661/2', '20662/1', '20662/2', '20664/1', '20664/2', '20671/1', '20671/2', '20673/1', '20673/2', '20675/1', '20675/2', '20695/1', '20695/2', '216Д/1', '270/1', '270/2', '272/1', '272/2', '288Д/1', '288Д/2', '29589/2', '3056/2', '3098Д/1', '3098Д/2', '3103А/1', '3103А/2', '3104Д/1', '3104Д/2', '3105Д/1', '3105Д/2', '3141Д/1', '3141Д/2', '3159/1', '3159/2', '3187/2', '3198/1', '3198/2', '32001/1', '32001/2', '32640/1', '32640/2', '32642/2', '32651/1', '32651/2', '32653/1', '32653/2', '32665/2', '32669/1', '32669/2', '32670/1', '32670/2', '32671А/1', '32671А/2', '32673/1', '32673/2', '32674/1', '32674/2', '32676/1', '32676/2', '32679/1', '32679/2', '32683/1', '32683/2', '32684/1', '32684/2', '32689/1', '32689/2', '32693/1', '32696/1', '32696/2', '32704/1', '32704/2', '32705/1', '32705/2', '32707/1', '32707/2', '32713/1', '32713/2', '32716/1', '32716/2', '32721/1', '32721/2', '32723/1', '32723/2', '32728/1', '32728/2', '32740/1', '32740/2', '32753/1', '32753/2', '32779/1', '32779/2', '32781/1', '32781/2', '32788/1', '32788/2', '32793/1', '32793/2', '3451/2', '3472Д/1', '3472Д/2', '440Д/1', '46Д/1', '46Д/2', '52Д/1', '52Д/2', '680Д/1', '680Д/2', '80Д/1', '80Д/2', '9500/1', '9500/2', '9501/1', '9501/2', '9508/1', '9508/2', '9509/1', '9509/2', '9515/1', '9515/2', '9517/2', '9526/2', '9567/1', '9567/2', '9589/1', '9589/2', '9613/1', '9613/2', '9616/3', '9618/2', '9628А/1', '9628А/2', '9636/2']\n"
     ]
    }
   ],
   "source": [
    "print(sorted(list(wells2)))"
   ]
  },
  {
   "cell_type": "code",
   "execution_count": 17,
   "metadata": {},
   "outputs": [
    {
     "data": {
      "text/plain": "{'10751Д/1',\n '10751Д/2',\n '10788/1',\n '10788/2',\n '10793/1',\n '10793/2',\n '10816А/1',\n '10816А/2',\n '10817/1',\n '10817/2',\n '10829/2',\n '10834А/1',\n '10834А/2',\n '10834Д/1',\n '10834Д/2',\n '10837/1',\n '10837/2',\n '10840/2',\n '10857/1',\n '10857/2',\n '10870/1',\n '10870/2',\n '10877А/2',\n '10892/1',\n '10892/2',\n '10897/2',\n '1205А/1',\n '1205А/2',\n '1207А/1',\n '1207А/2',\n '139Д/1',\n '139Д/2',\n '14898/1',\n '14898/2',\n '14900/1',\n '14900/2',\n '14904/1',\n '14904/2',\n '14906/1',\n '14906/2',\n '14916/1',\n '14916/2',\n '14922/1',\n '14922/2',\n '14924/1',\n '14924/2',\n '14933/2',\n '14936/2',\n '14940/1',\n '14940/2',\n '14942/2',\n '14953/1',\n '14953/2',\n '14957/1',\n '14957/2',\n '14992/1',\n '14992/2',\n '15286/2',\n '15632/2',\n '15693/2',\n '15756Д/1',\n '15756Д/2',\n '158/1',\n '158/2',\n '169Д/1',\n '169Д/2',\n '173/2',\n '176/1',\n '176/2',\n '176Д/1',\n '176Д/2',\n '17761/2',\n '17765/2',\n '20118/1',\n '20118/2',\n '20129/1',\n '20129/2',\n '20136/1',\n '20136/2',\n '20157/1',\n '20157/2',\n '20163/1',\n '20163/2',\n '20176/2',\n '20188/1',\n '20188/2',\n '20194/1',\n '20194/2',\n '20201/2',\n '20202/1',\n '20202/2',\n '20211А/1',\n '20224/2',\n '20229/1',\n '20229/2',\n '20255/1',\n '20255/2',\n '20258/1',\n '20258/2',\n '20271/1',\n '20271/2',\n '20285/1',\n '20285/2',\n '202Д/1',\n '202Д/2',\n '20306/2',\n '20323/1',\n '20323/2',\n '20324/1',\n '20324/2',\n '20328/1',\n '20328/2',\n '20334/2',\n '20336/2',\n '20337Д/2',\n '20341/2',\n '20361/1',\n '20361/2',\n '20362/1',\n '20362/2',\n '20390/1',\n '20390/2',\n '20393/1',\n '20393/2',\n '20400/1',\n '20400/2',\n '20404/1',\n '20404/2',\n '20443/1',\n '20443/2',\n '20444/1',\n '20444/2',\n '20451/2',\n '20475/1',\n '20475/2',\n '20477/1',\n '20477/2',\n '20482/1',\n '20482/2',\n '20491Д/1',\n '20491Д/2',\n '20499/1',\n '20499/2',\n '20512/1',\n '20512/2',\n '20525/1',\n '20525/2',\n '20530/1',\n '20530/2',\n '20531/1',\n '20532/1',\n '20532/2',\n '20535/1',\n '20535/2',\n '20586/1',\n '20586/2',\n '20590/1',\n '20590/2',\n '20593/1',\n '20593/2',\n '20594/1',\n '20594/2',\n '20595/1',\n '20595/2',\n '205Д/1',\n '205Д/2',\n '20601/1',\n '20601/2',\n '20613/2',\n '20614/1',\n '20614/2',\n '20617/1',\n '20617/2',\n '20627/1',\n '20627/2',\n '20636/1',\n '20636/2',\n '20638/1',\n '20638/2',\n '20644/1',\n '20644/2',\n '20645/1',\n '20645/2',\n '20648/2',\n '20649/1',\n '20649/2',\n '20661/1',\n '20661/2',\n '20662/1',\n '20662/2',\n '20664/1',\n '20664/2',\n '20671/1',\n '20671/2',\n '20673/1',\n '20673/2',\n '20675/1',\n '20675/2',\n '20695/1',\n '20695/2',\n '216Д/1',\n '270/1',\n '270/2',\n '272/1',\n '272/2',\n '288Д/1',\n '288Д/2',\n '29589/2',\n '3056/2',\n '3098Д/1',\n '3098Д/2',\n '3103А/1',\n '3103А/2',\n '3104Д/1',\n '3104Д/2',\n '3105Д/1',\n '3105Д/2',\n '3141Д/1',\n '3141Д/2',\n '3159/1',\n '3159/2',\n '3187/2',\n '3198/1',\n '3198/2',\n '32001/1',\n '32001/2',\n '32640/1',\n '32640/2',\n '32642/2',\n '32651/1',\n '32651/2',\n '32653/1',\n '32653/2',\n '32665/2',\n '32669/1',\n '32669/2',\n '32670/1',\n '32670/2',\n '32671А/1',\n '32671А/2',\n '32673/1',\n '32673/2',\n '32674/1',\n '32674/2',\n '32676/1',\n '32676/2',\n '32679/1',\n '32679/2',\n '32683/1',\n '32683/2',\n '32684/1',\n '32684/2',\n '32689/1',\n '32689/2',\n '32693/1',\n '32696/1',\n '32696/2',\n '32704/1',\n '32704/2',\n '32705/1',\n '32705/2',\n '32707/1',\n '32707/2',\n '32713/1',\n '32713/2',\n '32716/1',\n '32716/2',\n '32721/1',\n '32721/2',\n '32723/1',\n '32723/2',\n '32728/1',\n '32728/2',\n '32740/1',\n '32740/2',\n '32753/1',\n '32753/2',\n '32779/1',\n '32779/2',\n '32781/1',\n '32781/2',\n '32788/1',\n '32788/2',\n '32793/1',\n '32793/2',\n '3451/2',\n '3472Д/1',\n '3472Д/2',\n '440Д/1',\n '46Д/1',\n '46Д/2',\n '52Д/1',\n '52Д/2',\n '680Д/1',\n '680Д/2',\n '80Д/1',\n '80Д/2',\n '9500/1',\n '9500/2',\n '9501/1',\n '9501/2',\n '9508/1',\n '9508/2',\n '9509/1',\n '9509/2',\n '9515/1',\n '9515/2',\n '9517/2',\n '9526/2',\n '9567/1',\n '9567/2',\n '9589/1',\n '9589/2',\n '9613/1',\n '9613/2',\n '9616/3',\n '9618/2',\n '9628А/1',\n '9628А/2',\n '9636/2'}"
     },
     "execution_count": 17,
     "metadata": {},
     "output_type": "execute_result"
    }
   ],
   "source": [
    "wells2"
   ]
  },
  {
   "cell_type": "code",
   "execution_count": 18,
   "metadata": {},
   "outputs": [],
   "source": [
    "pd.DataFrame(data={'скважины': diff_wells}).to_excel('diff_wells.xlsx', index=False)"
   ]
  },
  {
   "cell_type": "code",
   "execution_count": 19,
   "metadata": {},
   "outputs": [],
   "source": [
    "diff_df = pd.DataFrame(columns=['source','well', 'top', 'bot'])"
   ]
  },
  {
   "cell_type": "code",
   "execution_count": 20,
   "metadata": {},
   "outputs": [],
   "source": [
    "act_df2['source'] = 'армитс'\n",
    "act_df_diff['source'] = 'local'"
   ]
  },
  {
   "cell_type": "code",
   "execution_count": 21,
   "metadata": {},
   "outputs": [],
   "source": [
    "for well in diff_wells:\n",
    "    diff_df = diff_df.append(act_df_diff[act_df_diff['well']== well])\n",
    "    diff_df = diff_df.append(act_df2[act_df2['well']== well])    "
   ]
  },
  {
   "cell_type": "code",
   "execution_count": 22,
   "metadata": {},
   "outputs": [],
   "source": [
    "diff_df.to_excel('diff_wells_info.xlsx', index=False)"
   ]
  },
  {
   "cell_type": "code",
   "execution_count": null,
   "metadata": {},
   "outputs": [],
   "source": []
  }
 ],
 "metadata": {
  "kernelspec": {
   "display_name": "Python 3",
   "language": "python",
   "name": "python3"
  },
  "language_info": {
   "codemirror_mode": {
    "name": "ipython",
    "version": 3
   },
   "file_extension": ".py",
   "mimetype": "text/x-python",
   "name": "python",
   "nbconvert_exporter": "python",
   "pygments_lexer": "ipython3",
   "version": "3.6.9"
  }
 },
 "nbformat": 4,
 "nbformat_minor": 5
}