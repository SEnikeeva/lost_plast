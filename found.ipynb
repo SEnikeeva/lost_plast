{
 "cells": [
  {
   "cell_type": "code",
   "execution_count": 1,
   "id": "774e8742",
   "metadata": {
    "pycharm": {
     "name": "#%%\n"
    }
   },
   "outputs": [],
   "source": [
    "import pandas as pd\n",
    "import sys\n",
    "from data_reader import fes_reader, perf_reader\n",
    "from tqdm import tqdm\n",
    "import bisect\n",
    "import json\n",
    "import datetime"
   ]
  },
  {
   "cell_type": "code",
   "execution_count": 2,
   "id": "b1cbc696",
   "metadata": {
    "pycharm": {
     "name": "#%%\n"
    }
   },
   "outputs": [],
   "source": [
    "# конвертация путей файлов в зависимости от системы\n",
    "def replace_slash(file_path):\n",
    "    platform = sys.platform\n",
    "    slash_map = {'win32': '\\\\',\n",
    "                'cygwin': '\\\\',\n",
    "                'darwin': '/',\n",
    "                'linux2': '/'}\n",
    "    if platform not in slash_map.keys(): platform = 'linux2'\n",
    "    return file_path.replace('\\\\', slash_map[platform])"
   ]
  },
  {
   "cell_type": "code",
   "execution_count": 3,
   "id": "951ae883",
   "metadata": {
    "pycharm": {
     "name": "#%%\n"
    }
   },
   "outputs": [],
   "source": [
    "perf_path = replace_slash('input_data\\\\' + 'armitz/miner/ARX_PERF.xlsx')\n",
    "fes_path = replace_slash('input_data\\\\armitz/miner/QINF.xlsx')"
   ]
  },
  {
   "cell_type": "code",
   "execution_count": 4,
   "id": "4eac7956",
   "metadata": {
    "pycharm": {
     "name": "#%%\n"
    }
   },
   "outputs": [
    {
     "name": "stdout",
     "output_type": "stream",
     "text": [
      "started reading perf xl\n",
      "done reading perf xl\n",
      "started reading fes xl\n",
      "done reading fes xl\n"
     ]
    }
   ],
   "source": [
    "perf_ints = perf_reader(perf_path)\n",
    "fes_dict = fes_reader(fes_path)\n",
    "SOIL_CUT = 60\n",
    "\n"
   ]
  }
 ],
 "metadata": {
  "kernelspec": {
   "display_name": "PyCharm (lost_plast)",
   "language": "python",
   "name": "pycharm-2664e013"
  },
  "language_info": {
   "codemirror_mode": {
    "name": "ipython",
    "version": 3
   },
   "file_extension": ".py",
   "mimetype": "text/x-python",
   "name": "python",
   "nbconvert_exporter": "python",
   "pygments_lexer": "ipython3",
   "version": "3.6.9"
  }
 },
 "nbformat": 4,
 "nbformat_minor": 5
}