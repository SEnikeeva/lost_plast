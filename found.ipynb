{
 "cells": [
  {
   "cell_type": "code",
   "execution_count": 1,
   "metadata": {
    "pycharm": {
     "name": "#%%\n"
    }
   },
   "outputs": [],
   "source": [
    "import pandas as pd\n",
    "import sys\n",
    "from data_reader import DataReader, rename_columns\n",
    "from tqdm import tqdm\n",
    "import bisect\n",
    "import json\n",
    "import datetime\n",
    "\n",
    "import json\n",
    "import logging\n",
    "import os\n",
    "import sys\n",
    "from datetime import date\n",
    "\n",
    "from finder import find_layers\n",
    "from actual_perf import get_actual_perf\n",
    "from writexl import write_layers, write_act_perf\n",
    "pd.set_option('display.max_rows', 10000)\n",
    "pd.set_option('display.max_columns', 500)\n",
    "pd.set_option('display.width', 1000)"
   ]
  },
  {
   "cell_type": "code",
   "execution_count": 2,
   "metadata": {
    "pycharm": {
     "name": "#%%\n"
    }
   },
   "outputs": [],
   "source": [
    "# конвертация путей файлов в зависимости от системы\n",
    "def replace_slash(file_path):\n",
    "    platform = sys.platform\n",
    "    slash_map = {'win32': '\\\\',\n",
    "                 'cygwin': '\\\\',\n",
    "                 'darwin': '/',\n",
    "                 'linux2': '/'}\n",
    "    if platform not in slash_map.keys(): platform = 'linux2'\n",
    "    return file_path.replace('\\\\', slash_map[platform])\n",
    "\n",
    "\n",
    "# очистка папки output_folder\n",
    "def clear_out_folder(output_folder):\n",
    "    files = os.listdir(output_folder)\n",
    "    for f in files:\n",
    "        path_dir = replace_slash(output_folder + \"\\\\\" + f)\n",
    "        os.remove(path_dir)\n",
    "\n",
    "\n",
    "def get_year(conf_perf_year):\n",
    "    if conf_perf_year == '':\n",
    "        return None\n",
    "    try:\n",
    "        return date(year=int(conf_perf_year), month=1, day=1)\n",
    "    except:\n",
    "        return None\n",
    "\n",
    "def rename_columns(df):\n",
    "    col_names = {'well': '', 'top': '', 'bot': '',\n",
    "                 'soil': '', 'date': '', 'type': '', 'type_perf': '',\n",
    "                 'layer': ''}\n",
    "    for column in df.columns.values:\n",
    "        if ('скв' in column) or ('skw_nam' in column) or (column == 'skw'):\n",
    "            col_names['well'] = column\n",
    "        elif ('verh' in column) or ('krow' == column) or ('верх' in column) or ('perf1_t' in column):\n",
    "            col_names['top'] = column\n",
    "        elif ('niz' in column) or ('podosh' in column) or ('низ' in column) or ('perf2_t' in column):\n",
    "            col_names['bot'] = column\n",
    "        elif ('nnas' in column) or ('н_нас' in column):\n",
    "            col_names['soil'] = column\n",
    "        elif ('дата_перф' in column) or (column == 'dat'):\n",
    "            col_names['date'] = column\n",
    "        elif ('цель' in column) or ('_cel' in column):\n",
    "            col_names['type'] = column\n",
    "        elif ('tip_perf' in column):\n",
    "            col_names['type_perf'] = column\n",
    "        elif ('plast_nam' in column):\n",
    "            col_names['layer'] = column\n",
    "    df.rename(columns={col_names['bot']: 'bot', col_names['top']: 'top',\n",
    "                       col_names['well']: 'well', col_names['soil']: 'soil',\n",
    "                       col_names['date']: 'date', col_names['type']: 'type',\n",
    "                       col_names['type_perf']: 'type_perf',\n",
    "                       col_names['layer']: 'layer'},\n",
    "              inplace=True)\n",
    "    col_names_set = set(df.columns)\n",
    "    df.drop(columns=list(col_names_set.difference(col_names.keys())),\n",
    "            inplace=True)\n",
    "def df_to_dict(df):\n",
    "    df.set_index('well', inplace=True)\n",
    "    # перестановка столбцов для сохранения установленного порядка\n",
    "    perf_df = df.reindex(['top', 'bot', 'layer'], axis=1)\n",
    "    # преобразование датафрейма в словарь\n",
    "    act_perf_ints = perf_df.groupby(level=0, sort=False) \\\n",
    "        .apply(lambda x: [{'top': e[0],\n",
    "                           'bot': e[1],\n",
    "                           'layer': e[2]}\n",
    "                          for e in x.values]) \\\n",
    "        .to_dict()\n",
    "\n",
    "    return act_perf_ints"
   ]
  },
  {
   "cell_type": "code",
   "execution_count": 3,
   "metadata": {
    "pycharm": {
     "name": "#%%\n"
    }
   },
   "outputs": [
    {
     "name": "stdout",
     "output_type": "stream",
     "text": [
      "started reading perf xl\n",
      "done reading perf xl and started processing perf data\n",
      "started reading fes xl\n"
     ]
    },
    {
     "name": "stderr",
     "output_type": "stream",
     "text": [
      "100%|██████████| 1579/1579 [00:00<00:00, 18991.27it/s]"
     ]
    },
    {
     "name": "stdout",
     "output_type": "stream",
     "text": [
      "done reading fes xl\n",
      "done processing data\n"
     ]
    },
    {
     "name": "stderr",
     "output_type": "stream",
     "text": [
      "\n",
      "100%|██████████| 1574/1574 [00:00<00:00, 53593.71it/s]\n"
     ]
    }
   ],
   "source": [
    "input_folder = \"input_data\"\n",
    "out_folder = \"output_data\"\n",
    "output_path_l = replace_slash(out_folder + \"\\\\\" + \"non_perf_layers.xlsx\")\n",
    "output_path_a = replace_slash(out_folder + \"\\\\\" + \"act_perf.xlsx\")\n",
    "\n",
    "if not os.path.exists(out_folder):\n",
    "    os.makedirs(out_folder)\n",
    "else:\n",
    "    clear_out_folder(out_folder)\n",
    "\n",
    "out_path_log = replace_slash(out_folder + \"\\\\\" + \"Report.txt\")\n",
    "logging.basicConfig(format=u'%(levelname)-8s : %(message)s', filename=out_path_log, filemode='w')\n",
    "\n",
    "with open(\"config.json\", 'r') as f:\n",
    "    try:\n",
    "        conf = json.load(f)\n",
    "        SOIL_CUT = float(conf[\"SOIL_CUT\"])\n",
    "        perf_path = conf[\"perf_path\"]\n",
    "        fes_path = conf[\"fes_path\"]\n",
    "        act_perf_year = get_year(conf[\"act_perf_year\"])\n",
    "    except BaseException as e:\n",
    "        logging.error(\"Error loading config file. \" + str(e))\n",
    "        sys.exit()\n",
    "perf_path = replace_slash(input_folder + '\\\\' + perf_path)\n",
    "fes_path = replace_slash(input_folder + '\\\\' + fes_path)\n",
    "\n",
    "dr = DataReader()\n",
    "try:\n",
    "    perf_ints = dr.perf_reader(perf_path)\n",
    "except BaseException as e:\n",
    "    logging.error(\"Error loading perf file. \" + str(e))\n",
    "    sys.exit()\n",
    "try:\n",
    "    fes_dict = dr.fes_reader(fes_path)\n",
    "except BaseException as e:\n",
    "    logging.error(\"Error loading fes file. \" + str(e))\n",
    "    sys.exit()\n",
    "\n",
    "# perf_rig_diff, rig_perf_diff = dr.well_diff()\n",
    "# if len(perf_rig_diff) > 0:\n",
    "#     logging.warning(\"These wells in perf file are absent in rigis \"\n",
    "#                     + str(perf_rig_diff))\n",
    "# if len(rig_perf_diff) > 0:\n",
    "#     logging.warning(\"These wells in rigis file are absent in perf \"\n",
    "#                     + str(rig_perf_diff))\n",
    "\n",
    "try:\n",
    "    act_perf = get_actual_perf(perf_ints, act_perf_year)\n",
    "except BaseException as e:\n",
    "    logging.error(\"Error while getting the actual perforation \" + str(e))\n",
    "    sys.exit()\n",
    "\n",
    "act_perf_ints = df_to_dict(pd.read_json(json.dumps(act_perf)))\n",
    "\n",
    "try:\n",
    "    lost_layers = find_layers(perf_ints, fes_dict, SOIL_CUT)\n",
    "except BaseException as e:\n",
    "    logging.error(\"Error while finding layers \" + str(e))\n",
    "    sys.exit()"
   ]
  },
  {
   "cell_type": "code",
   "execution_count": 4,
   "metadata": {
    "pycharm": {
     "name": "#%%\n"
    }
   },
   "outputs": [],
   "source": [
    "wells1 = list(dr.sl_wells)"
   ]
  },
  {
   "cell_type": "code",
   "execution_count": 5,
   "metadata": {
    "pycharm": {
     "name": "#%%\n"
    }
   },
   "outputs": [],
   "source": [
    "dr.sl_wells = set()"
   ]
  },
  {
   "cell_type": "code",
   "execution_count": 6,
   "metadata": {
    "pycharm": {
     "name": "#%%\n"
    }
   },
   "outputs": [],
   "source": [
    "wells2 = dr.sl_wells"
   ]
  },
  {
   "cell_type": "code",
   "execution_count": 7,
   "metadata": {},
   "outputs": [
    {
     "name": "stderr",
     "output_type": "stream",
     "text": [
      "100%|██████████| 6195/6195 [00:01<00:00, 5574.76it/s]\n",
      "100%|██████████| 3988/3988 [00:00<00:00, 51730.77it/s]\n",
      "100%|██████████| 6031/6031 [00:00<00:00, 54052.57it/s]\n",
      "100%|██████████| 6031/6031 [00:00<00:00, 6361.81it/s]\n"
     ]
    }
   ],
   "source": [
    "act_df = pd.read_json(json.dumps(act_perf))\n",
    "\n",
    "act_df2 =  pd.read_json('perf2.json')\n",
    "\n",
    "act_df2.rename(columns=lambda x: x.lower().strip(), inplace=True)\n",
    "\n",
    "rename_columns(act_df2)\n",
    "\n",
    "act_df2['well'] = act_df2['well'].apply(dr.well_renaming)\n",
    "act_df = act_df[act_df['perf_type'] == 1]\n",
    "act_df2.sort_values(by=['well', 'top', 'bot'], ascending=False, inplace=True)\n",
    "act_df.sort_values(by=['well', 'top', 'bot'], ascending=False, inplace=True)\n",
    "act_df.drop(act_df[act_df['top'] == act_df['bot']].index, inplace=True)\n",
    "act_df2.drop(act_df2[act_df2['top'] == act_df2['bot']].index, inplace=True)\n",
    "act_df.reset_index(drop=True, inplace=True)\n",
    "act_df2.reset_index(drop=True, inplace=True)\n",
    "del_idxs = []\n",
    "for i in tqdm(range(len(act_df2) - 1)):\n",
    "    if ((act_df2.loc[i, 'top'] == act_df2.loc[i + 1, 'bot']) or (act_df2.loc[i, 'top'] == act_df2.loc[i + 1, 'top'])) and (act_df2.loc[i, 'well'] == act_df2.loc[i + 1, 'well']):\n",
    "        act_df2.loc[i + 1, 'bot'] = act_df2.loc[i, 'bot']\n",
    "        del_idxs.append(i)\n",
    "act_df2.drop(del_idxs, inplace=True)\n",
    "act_df2.reset_index(drop=True, inplace=True)\n",
    "\n",
    "del_idxs = []\n",
    "for i in tqdm(range(len(act_df2) - 1)):\n",
    "    if (act_df2.loc[i, 'bot'] <= act_df2.loc[i + 1, 'bot']) and (act_df2.loc[i, 'well'] == act_df2.loc[i + 1, 'well']):\n",
    "        del_idxs.append(i)\n",
    "act_df2.drop(del_idxs, inplace=True)\n",
    "act_df2.reset_index(drop=True, inplace=True)\n",
    "\n",
    "del_idxs = []\n",
    "for i in tqdm(range(len(act_df) - 1)):\n",
    "    if (act_df.loc[i, 'bot'] <= act_df.loc[i + 1, 'bot']) and (act_df.loc[i, 'well'] == act_df.loc[i + 1, 'well']):\n",
    "        del_idxs.append(i)\n",
    "act_df.drop(del_idxs, inplace=True)\n",
    "act_df.reset_index(drop=True, inplace=True)\n",
    "\n",
    "del_idxs = []\n",
    "for i in tqdm(range(len(act_df) - 1)):\n",
    "    if ((act_df.loc[i, 'top'] == act_df.loc[i + 1, 'bot']) or (act_df.loc[i, 'top'] == act_df.loc[i + 1, 'top'])) and (act_df.loc[i, 'well'] == act_df.loc[i + 1, 'well']):\n",
    "        act_df.loc[i + 1, 'bot'] = act_df.loc[i, 'bot']\n",
    "        del_idxs.append(i)\n",
    "act_df.drop(del_idxs, inplace=True)\n",
    "act_df.reset_index(drop=True, inplace=True)\n",
    "\n",
    "                    \n",
    "len(list(set(act_df['well'].unique()).difference(act_df2['well'].unique())))\n",
    "\n",
    "len(list(set(act_df2['well'].unique()).difference(act_df['well'].unique())))\n",
    "\n",
    "act_df_intersec = act_df[act_df['well'].isin(act_df2['well'].unique())]\n",
    "\n",
    "act_df_diff = act_df_intersec[act_df_intersec['perf_type'] == 1][['well', 'top', 'bot', 'layer']]\n",
    "\n",
    "diff = act_df_diff[~act_df_diff.apply(tuple,1).isin(act_df2.apply(tuple,1))]\n",
    "diff2 = act_df2[~act_df2.apply(tuple,1).isin(act_df_diff.apply(tuple,1))]"
   ]
  },
  {
   "cell_type": "code",
   "execution_count": 8,
   "metadata": {},
   "outputs": [
    {
     "name": "stdout",
     "output_type": "stream",
     "text": [
      "57\n",
      "47\n"
     ]
    }
   ],
   "source": [
    "print(len(diff))\n",
    "print(len(diff2))"
   ]
  },
  {
   "cell_type": "code",
   "execution_count": 9,
   "metadata": {},
   "outputs": [
    {
     "data": {
      "text/html": [
       "<div>\n",
       "<style scoped>\n",
       "    .dataframe tbody tr th:only-of-type {\n",
       "        vertical-align: middle;\n",
       "    }\n",
       "\n",
       "    .dataframe tbody tr th {\n",
       "        vertical-align: top;\n",
       "    }\n",
       "\n",
       "    .dataframe thead th {\n",
       "        text-align: right;\n",
       "    }\n",
       "</style>\n",
       "<table border=\"1\" class=\"dataframe\">\n",
       "  <thead>\n",
       "    <tr style=\"text-align: right;\">\n",
       "      <th></th>\n",
       "      <th>well</th>\n",
       "      <th>top</th>\n",
       "      <th>bot</th>\n",
       "      <th>layer</th>\n",
       "    </tr>\n",
       "  </thead>\n",
       "  <tbody>\n",
       "    <tr>\n",
       "      <th>133</th>\n",
       "      <td>9599</td>\n",
       "      <td>1679.6</td>\n",
       "      <td>1682.0</td>\n",
       "      <td>Д0+Д1Г2+3</td>\n",
       "    </tr>\n",
       "    <tr>\n",
       "      <th>268</th>\n",
       "      <td>9544</td>\n",
       "      <td>1729.4</td>\n",
       "      <td>1733.3</td>\n",
       "      <td>Д0+Д1Б2</td>\n",
       "    </tr>\n",
       "    <tr>\n",
       "      <th>269</th>\n",
       "      <td>9544</td>\n",
       "      <td>1722.0</td>\n",
       "      <td>1725.0</td>\n",
       "      <td>Д0+Д1A</td>\n",
       "    </tr>\n",
       "    <tr>\n",
       "      <th>585</th>\n",
       "      <td>3682д</td>\n",
       "      <td>1728.8</td>\n",
       "      <td>1731.6</td>\n",
       "      <td>Д0+Д1B</td>\n",
       "    </tr>\n",
       "    <tr>\n",
       "      <th>595</th>\n",
       "      <td>3680а</td>\n",
       "      <td>1688.8</td>\n",
       "      <td>1692.0</td>\n",
       "      <td>Д0+Д1Г1</td>\n",
       "    </tr>\n",
       "  </tbody>\n",
       "</table>\n",
       "</div>"
      ],
      "text/plain": [
       "      well     top     bot      layer\n",
       "133   9599  1679.6  1682.0  Д0+Д1Г2+3\n",
       "268   9544  1729.4  1733.3    Д0+Д1Б2\n",
       "269   9544  1722.0  1725.0     Д0+Д1A\n",
       "585  3682д  1728.8  1731.6     Д0+Д1B\n",
       "595  3680а  1688.8  1692.0    Д0+Д1Г1"
      ]
     },
     "execution_count": 9,
     "metadata": {},
     "output_type": "execute_result"
    }
   ],
   "source": [
    "diff2.head()"
   ]
  },
  {
   "cell_type": "code",
   "execution_count": 10,
   "metadata": {},
   "outputs": [],
   "source": [
    "diff3 = pd.concat([act_df2, act_df_diff]).drop_duplicates(keep=False)"
   ]
  },
  {
   "cell_type": "code",
   "execution_count": 11,
   "metadata": {
    "scrolled": true
   },
   "outputs": [
    {
     "name": "stdout",
     "output_type": "stream",
     "text": [
      "57\n",
      "47\n",
      "104\n"
     ]
    }
   ],
   "source": [
    "print(len(diff))\n",
    "print(len(diff2))\n",
    "print(len(diff3))"
   ]
  },
  {
   "cell_type": "code",
   "execution_count": 12,
   "metadata": {
    "scrolled": true
   },
   "outputs": [
    {
     "name": "stdout",
     "output_type": "stream",
     "text": [
      "74\n",
      "['10792', '10801', '10810', '10827д', '10832', '10840', '10868', '10887', '10894', '1205', '1214', '134д', '145', '14936', '14942', '14963', '152', '153', '154', '15708', '15755', '16555', '176д', '179', '199', '20113', '20140а', '20146', '20199', '20211а', '20214', '20225', '20236', '20282', '20300', '20323', '20384', '20408', '20415', '20457', '20480', '20505', '20508', '20531', '20645', '20648', '20652', '20690', '216д', '231', '242', '2476', '270', '290', '294', '3056', '3100', '3115', '3123', '3128', '3133', '3179', '3184', '3192', '32660', '32693', '3469', '3680а', '3682д', '440д', '9525', '9544', '9599', '9624']\n"
     ]
    }
   ],
   "source": [
    "diff_wells = diff3['well'].unique()\n",
    "print(len(diff_wells))\n",
    "print(sorted(diff_wells))"
   ]
  },
  {
   "cell_type": "code",
   "execution_count": 13,
   "metadata": {},
   "outputs": [],
   "source": [
    "wells_df = pd.DataFrame(data={'скважины': diff_wells})\n",
    "wells_df.to_excel('diff_wells.xlsx', index=False)"
   ]
  },
  {
   "cell_type": "code",
   "execution_count": 14,
   "metadata": {},
   "outputs": [],
   "source": [
    "diff_df = pd.DataFrame(columns=['source','well', 'top', 'bot', 'layer'])"
   ]
  },
  {
   "cell_type": "code",
   "execution_count": 15,
   "metadata": {},
   "outputs": [],
   "source": [
    "act_df2['source'] = 'армитс'\n",
    "act_df_diff['source'] = 'local'"
   ]
  },
  {
   "cell_type": "code",
   "execution_count": 16,
   "metadata": {},
   "outputs": [],
   "source": [
    "for well in diff_wells:\n",
    "    diff_df = diff_df.append(act_df_diff[act_df_diff['well']== well])\n",
    "    diff_df = diff_df.append(act_df2[act_df2['well']== well])    "
   ]
  },
  {
   "cell_type": "code",
   "execution_count": 17,
   "metadata": {},
   "outputs": [],
   "source": [
    "diff_df.to_excel('diff_wells_info.xlsx', index=False)"
   ]
  },
  {
   "cell_type": "code",
   "execution_count": 18,
   "metadata": {},
   "outputs": [
    {
     "data": {
      "text/plain": [
       "[{'bot': 1743.0,\n",
       "  'date': datetime.date(2016, 3, 7),\n",
       "  'layer': 'Д0+Д1Б1',\n",
       "  'top': 1742.0,\n",
       "  'type': 1},\n",
       " {'bot': 1742.0,\n",
       "  'date': datetime.date(2016, 3, 7),\n",
       "  'layer': 'Д0+Д1A',\n",
       "  'top': 1739.0,\n",
       "  'type': 1},\n",
       " {'bot': 1743.0,\n",
       "  'date': datetime.date(2016, 3, 2),\n",
       "  'layer': 'Д0+Д1Б1',\n",
       "  'top': 1742.0,\n",
       "  'type': 1},\n",
       " {'bot': 1742.0,\n",
       "  'date': datetime.date(2016, 3, 2),\n",
       "  'layer': 'Д0+Д1A',\n",
       "  'top': 1739.0,\n",
       "  'type': 1},\n",
       " {'bot': 1751.0,\n",
       "  'date': datetime.date(2014, 9, 13),\n",
       "  'layer': 'Д0+Д1Б3',\n",
       "  'top': 1748.8,\n",
       "  'type': 1},\n",
       " {'bot': 1746.4,\n",
       "  'date': datetime.date(2014, 9, 13),\n",
       "  'layer': 'Д0+Д1Б2',\n",
       "  'top': 1745.6,\n",
       "  'type': 1},\n",
       " {'bot': 1743.2,\n",
       "  'date': datetime.date(2014, 9, 13),\n",
       "  'layer': 'Д0+Д1Б1',\n",
       "  'top': 1742.0,\n",
       "  'type': 1},\n",
       " {'bot': 1741.6,\n",
       "  'date': datetime.date(2014, 9, 12),\n",
       "  'layer': 'Д0+Д1A',\n",
       "  'top': 1739.6,\n",
       "  'type': 1},\n",
       " {'bot': 1727.8,\n",
       "  'date': datetime.date(2014, 9, 12),\n",
       "  'layer': 'Д0',\n",
       "  'top': 1724.4,\n",
       "  'type': 1},\n",
       " {'bot': 1759.5,\n",
       "  'date': datetime.date(2014, 9, 9),\n",
       "  'layer': 'Д0+Д1B',\n",
       "  'top': 1759.0,\n",
       "  'type': 2},\n",
       " {'bot': 1759.0,\n",
       "  'date': datetime.date(2014, 9, 9),\n",
       "  'layer': 'Д0+Д1B',\n",
       "  'top': 1758.5,\n",
       "  'type': 2},\n",
       " {'bot': 1770.2,\n",
       "  'date': datetime.date(2003, 8, 20),\n",
       "  'layer': 'Д0+Д1Г2+3',\n",
       "  'top': 1769.2,\n",
       "  'type': 2},\n",
       " {'bot': 1767.5,\n",
       "  'date': datetime.date(2003, 8, 20),\n",
       "  'layer': 'Д0+Д1Г2+3',\n",
       "  'top': 1765.0,\n",
       "  'type': 2},\n",
       " {'bot': 1759.5,\n",
       "  'date': datetime.date(2003, 8, 20),\n",
       "  'layer': 'Д0+Д1B',\n",
       "  'top': 1759.0,\n",
       "  'type': 1},\n",
       " {'bot': 1759.0,\n",
       "  'date': datetime.date(2003, 8, 20),\n",
       "  'layer': 'Д0+Д1B',\n",
       "  'top': 1758.5,\n",
       "  'type': 1},\n",
       " {'bot': 1767.5,\n",
       "  'date': datetime.date(1987, 12, 15),\n",
       "  'layer': 'Д0+Д1Г2+3',\n",
       "  'top': 1765.0,\n",
       "  'type': 1},\n",
       " {'bot': 1770.2,\n",
       "  'date': datetime.date(1987, 10, 18),\n",
       "  'layer': 'Д0+Д1Г2+3',\n",
       "  'top': 1769.2,\n",
       "  'type': 1}]"
      ]
     },
     "execution_count": 18,
     "metadata": {},
     "output_type": "execute_result"
    }
   ],
   "source": [
    "perf_ints['20380']"
   ]
  },
  {
   "cell_type": "code",
   "execution_count": 19,
   "metadata": {},
   "outputs": [
    {
     "data": {
      "text/plain": [
       "[{'bot': 1727.8, 'layer': 'Д0', 'top': 1724.4},\n",
       " {'bot': 1742.0, 'layer': 'Д0+Д1A', 'top': 1739.0},\n",
       " {'bot': 1743.2, 'layer': 'Д0+Д1Б1', 'top': 1742.0},\n",
       " {'bot': 1746.4, 'layer': 'Д0+Д1Б2', 'top': 1745.6},\n",
       " {'bot': 1751.0, 'layer': 'Д0+Д1Б3', 'top': 1748.8},\n",
       " {'bot': 1759.0, 'layer': 'Д0+Д1B', 'top': 1758.5},\n",
       " {'bot': 1759.0, 'layer': 'Д0+Д1B', 'top': 1759.0},\n",
       " {'bot': 1759.5, 'layer': 'Д0+Д1B', 'top': 1759.0},\n",
       " {'bot': 1767.5, 'layer': 'Д0+Д1Г2+3', 'top': 1765.0},\n",
       " {'bot': 1770.2, 'layer': 'Д0+Д1Г2+3', 'top': 1769.2}]"
      ]
     },
     "execution_count": 19,
     "metadata": {},
     "output_type": "execute_result"
    }
   ],
   "source": [
    "act_perf_ints['20380']"
   ]
  },
  {
   "cell_type": "code",
   "execution_count": 20,
   "metadata": {},
   "outputs": [
    {
     "data": {
      "text/plain": [
       "[{'bot': 1727.8, 'layer': 'Д0', 'top': 1724.4},\n",
       " {'bot': 1742.0, 'layer': 'Д0+Д1A', 'top': 1739.0},\n",
       " {'bot': 1743.2, 'layer': 'Д0+Д1Б1', 'top': 1742.0},\n",
       " {'bot': 1746.4, 'layer': 'Д0+Д1Б2', 'top': 1745.6},\n",
       " {'bot': 1751.0, 'layer': 'Д0+Д1Б3', 'top': 1748.8},\n",
       " {'bot': 1759.0, 'layer': 'Д0+Д1B', 'top': 1758.5},\n",
       " {'bot': 1759.0, 'layer': 'Д0+Д1B', 'top': 1759.0},\n",
       " {'bot': 1759.5, 'layer': 'Д0+Д1B', 'top': 1759.0},\n",
       " {'bot': 1767.5, 'layer': 'Д0+Д1Г2+3', 'top': 1765.0},\n",
       " {'bot': 1770.2, 'layer': 'Д0+Д1Г2+3', 'top': 1769.2}]"
      ]
     },
     "execution_count": 20,
     "metadata": {},
     "output_type": "execute_result"
    }
   ],
   "source": [
    "act_perf_ints['20380']"
   ]
  },
  {
   "cell_type": "code",
   "execution_count": 21,
   "metadata": {},
   "outputs": [],
   "source": [
    "diff_well_df = pd.DataFrame(columns=['нет в перф','нет в ригис'])"
   ]
  },
  {
   "cell_type": "code",
   "execution_count": 22,
   "metadata": {},
   "outputs": [],
   "source": [
    "diff_well_df['нет в перф'] = [1, 2, 3]\n",
    "diff_well_df['нет в ригис'] = [1, 2, None]"
   ]
  },
  {
   "cell_type": "code",
   "execution_count": 23,
   "metadata": {},
   "outputs": [
    {
     "data": {
      "text/html": [
       "<div>\n",
       "<style scoped>\n",
       "    .dataframe tbody tr th:only-of-type {\n",
       "        vertical-align: middle;\n",
       "    }\n",
       "\n",
       "    .dataframe tbody tr th {\n",
       "        vertical-align: top;\n",
       "    }\n",
       "\n",
       "    .dataframe thead th {\n",
       "        text-align: right;\n",
       "    }\n",
       "</style>\n",
       "<table border=\"1\" class=\"dataframe\">\n",
       "  <thead>\n",
       "    <tr style=\"text-align: right;\">\n",
       "      <th></th>\n",
       "      <th>нет в перф</th>\n",
       "      <th>нет в ригис</th>\n",
       "    </tr>\n",
       "  </thead>\n",
       "  <tbody>\n",
       "    <tr>\n",
       "      <th>0</th>\n",
       "      <td>1</td>\n",
       "      <td>1.0</td>\n",
       "    </tr>\n",
       "    <tr>\n",
       "      <th>1</th>\n",
       "      <td>2</td>\n",
       "      <td>2.0</td>\n",
       "    </tr>\n",
       "    <tr>\n",
       "      <th>2</th>\n",
       "      <td>3</td>\n",
       "      <td>NaN</td>\n",
       "    </tr>\n",
       "  </tbody>\n",
       "</table>\n",
       "</div>"
      ],
      "text/plain": [
       "   нет в перф  нет в ригис\n",
       "0           1          1.0\n",
       "1           2          2.0\n",
       "2           3          NaN"
      ]
     },
     "execution_count": 23,
     "metadata": {},
     "output_type": "execute_result"
    }
   ],
   "source": [
    "diff_well_df"
   ]
  },
  {
   "cell_type": "code",
   "execution_count": 24,
   "metadata": {},
   "outputs": [
    {
     "data": {
      "text/plain": [
       "True"
      ]
     },
     "execution_count": 24,
     "metadata": {},
     "output_type": "execute_result"
    }
   ],
   "source": [
    "'20380' in act_df2['well'].unique()"
   ]
  },
  {
   "cell_type": "code",
   "execution_count": 25,
   "metadata": {},
   "outputs": [
    {
     "data": {
      "text/plain": [
       "[{'bot': 1743.0,\n",
       "  'date': datetime.date(2016, 3, 7),\n",
       "  'layer': 'Д0+Д1Б1',\n",
       "  'top': 1742.0,\n",
       "  'type': 1},\n",
       " {'bot': 1742.0,\n",
       "  'date': datetime.date(2016, 3, 7),\n",
       "  'layer': 'Д0+Д1A',\n",
       "  'top': 1739.0,\n",
       "  'type': 1},\n",
       " {'bot': 1743.0,\n",
       "  'date': datetime.date(2016, 3, 2),\n",
       "  'layer': 'Д0+Д1Б1',\n",
       "  'top': 1742.0,\n",
       "  'type': 1},\n",
       " {'bot': 1742.0,\n",
       "  'date': datetime.date(2016, 3, 2),\n",
       "  'layer': 'Д0+Д1A',\n",
       "  'top': 1739.0,\n",
       "  'type': 1},\n",
       " {'bot': 1751.0,\n",
       "  'date': datetime.date(2014, 9, 13),\n",
       "  'layer': 'Д0+Д1Б3',\n",
       "  'top': 1748.8,\n",
       "  'type': 1},\n",
       " {'bot': 1746.4,\n",
       "  'date': datetime.date(2014, 9, 13),\n",
       "  'layer': 'Д0+Д1Б2',\n",
       "  'top': 1745.6,\n",
       "  'type': 1},\n",
       " {'bot': 1743.2,\n",
       "  'date': datetime.date(2014, 9, 13),\n",
       "  'layer': 'Д0+Д1Б1',\n",
       "  'top': 1742.0,\n",
       "  'type': 1},\n",
       " {'bot': 1741.6,\n",
       "  'date': datetime.date(2014, 9, 12),\n",
       "  'layer': 'Д0+Д1A',\n",
       "  'top': 1739.6,\n",
       "  'type': 1},\n",
       " {'bot': 1727.8,\n",
       "  'date': datetime.date(2014, 9, 12),\n",
       "  'layer': 'Д0',\n",
       "  'top': 1724.4,\n",
       "  'type': 1},\n",
       " {'bot': 1759.5,\n",
       "  'date': datetime.date(2014, 9, 9),\n",
       "  'layer': 'Д0+Д1B',\n",
       "  'top': 1759.0,\n",
       "  'type': 2},\n",
       " {'bot': 1759.0,\n",
       "  'date': datetime.date(2014, 9, 9),\n",
       "  'layer': 'Д0+Д1B',\n",
       "  'top': 1758.5,\n",
       "  'type': 2},\n",
       " {'bot': 1770.2,\n",
       "  'date': datetime.date(2003, 8, 20),\n",
       "  'layer': 'Д0+Д1Г2+3',\n",
       "  'top': 1769.2,\n",
       "  'type': 2},\n",
       " {'bot': 1767.5,\n",
       "  'date': datetime.date(2003, 8, 20),\n",
       "  'layer': 'Д0+Д1Г2+3',\n",
       "  'top': 1765.0,\n",
       "  'type': 2},\n",
       " {'bot': 1759.5,\n",
       "  'date': datetime.date(2003, 8, 20),\n",
       "  'layer': 'Д0+Д1B',\n",
       "  'top': 1759.0,\n",
       "  'type': 1},\n",
       " {'bot': 1759.0,\n",
       "  'date': datetime.date(2003, 8, 20),\n",
       "  'layer': 'Д0+Д1B',\n",
       "  'top': 1758.5,\n",
       "  'type': 1},\n",
       " {'bot': 1767.5,\n",
       "  'date': datetime.date(1987, 12, 15),\n",
       "  'layer': 'Д0+Д1Г2+3',\n",
       "  'top': 1765.0,\n",
       "  'type': 1},\n",
       " {'bot': 1770.2,\n",
       "  'date': datetime.date(1987, 10, 18),\n",
       "  'layer': 'Д0+Д1Г2+3',\n",
       "  'top': 1769.2,\n",
       "  'type': 1}]"
      ]
     },
     "execution_count": 25,
     "metadata": {},
     "output_type": "execute_result"
    }
   ],
   "source": [
    "perf_ints['20380']"
   ]
  },
  {
   "cell_type": "code",
   "execution_count": 26,
   "metadata": {},
   "outputs": [],
   "source": [
    "try:\n",
    "    write_layers(output_path_l, lost_layers)\n",
    "    write_act_perf(output_path=output_path_a, act_perf=act_perf)\n",
    "except BaseException as e:\n",
    "    logging.error(\"Error while writing results \" + str(e))\n",
    "    sys.exit()\n"
   ]
  },
  {
   "cell_type": "code",
   "execution_count": null,
   "metadata": {},
   "outputs": [],
   "source": []
  }
 ],
 "metadata": {
  "kernelspec": {
   "display_name": "Python 3",
   "language": "python",
   "name": "python3"
  },
  "language_info": {
   "codemirror_mode": {
    "name": "ipython",
    "version": 3
   },
   "file_extension": ".py",
   "mimetype": "text/x-python",
   "name": "python",
   "nbconvert_exporter": "python",
   "pygments_lexer": "ipython3",
   "version": "3.6.9"
  }
 },
 "nbformat": 4,
 "nbformat_minor": 5
}