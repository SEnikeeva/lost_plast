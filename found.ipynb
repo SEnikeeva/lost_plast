{
 "cells": [
  {
   "cell_type": "code",
   "execution_count": 1,
   "id": "e222f644",
   "metadata": {
    "pycharm": {
     "name": "#%%\n"
    }
   },
   "outputs": [],
   "source": [
    "import pandas as pd\n",
    "import sys\n",
    "from data_reader import fes_reader, perf_reader, well_renaming, rename_columns\n",
    "from tqdm import tqdm\n",
    "import bisect\n",
    "import json\n",
    "import datetime\n",
    "\n",
    "pd.set_option('display.max_rows', 500)\n",
    "pd.set_option('display.max_columns', 500)\n",
    "pd.set_option('display.width', 1000)"
   ]
  },
  {
   "cell_type": "code",
   "execution_count": 2,
   "id": "a93eaf28",
   "metadata": {
    "pycharm": {
     "name": "#%%\n"
    }
   },
   "outputs": [],
   "source": [
    "# конвертация путей файлов в зависимости от системы\n",
    "def replace_slash(file_path):\n",
    "    platform = sys.platform\n",
    "    slash_map = {'win32': '\\\\',\n",
    "                'cygwin': '\\\\',\n",
    "                'darwin': '/',\n",
    "                'linux2': '/'}\n",
    "    if platform not in slash_map.keys(): platform = 'linux2'\n",
    "    return file_path.replace('\\\\', slash_map[platform])"
   ]
  },
  {
   "cell_type": "code",
   "execution_count": 3,
   "id": "b95c2374",
   "metadata": {
    "pycharm": {
     "name": "#%%\n"
    }
   },
   "outputs": [],
   "source": [
    "perf_path1 = replace_slash('input_data\\\\' + 'armitz/miner/ARX_PERF.xlsx')\n",
    "fes_path1 = replace_slash('input_data\\\\armitz/miner/QINF.xlsx')\n",
    "\n",
    "perf_path = replace_slash('input_data\\\\' + 'Перфорация.json')\n",
    "fes_path = replace_slash('input_data\\\\РИГИС.json')"
   ]
  },
  {
   "cell_type": "code",
   "execution_count": 4,
   "id": "f66a06fd",
   "metadata": {
    "pycharm": {
     "name": "#%%\n"
    }
   },
   "outputs": [],
   "source": [
    "with open(fes_path, 'r') as f:\n",
    "    data = json.dumps(json.load(f))\n",
    "with open(perf_path, 'r') as f:\n",
    "    data_perf = json.dumps(json.load(f))"
   ]
  },
  {
   "cell_type": "code",
   "execution_count": 5,
   "id": "6e2f11c4",
   "metadata": {
    "pycharm": {
     "name": "#%%\n"
    }
   },
   "outputs": [],
   "source": [
    "perf_df = pd.read_json(data_perf, orient='records')\n",
    "\n",
    "fes_df = pd.read_json(data, orient='records')"
   ]
  },
  {
   "cell_type": "code",
   "execution_count": 6,
   "id": "41a23215",
   "metadata": {
    "pycharm": {
     "name": "#%%\n"
    }
   },
   "outputs": [],
   "source": [
    "perf_df1 = pd.read_excel(perf_path1, engine='openpyxl', skiprows=1)\n",
    "fes_df1 = pd.read_excel(fes_path1, engine='openpyxl', skiprows=1)"
   ]
  },
  {
   "cell_type": "code",
   "execution_count": 7,
   "id": "dbd008ea",
   "metadata": {
    "pycharm": {
     "name": "#%%\n"
    }
   },
   "outputs": [],
   "source": [
    "perf_df.rename(columns=lambda x: x.lower().strip(), inplace=True)\n",
    "rename_columns(perf_df)\n",
    "\n",
    "perf_df1.rename(columns=lambda x: x.lower().strip(), inplace=True)\n",
    "rename_columns(perf_df1)"
   ]
  },
  {
   "cell_type": "code",
   "execution_count": 8,
   "id": "652eab76",
   "metadata": {
    "pycharm": {
     "name": "#%%\n"
    }
   },
   "outputs": [],
   "source": [
    "fes_df.rename(columns=lambda x: x.lower().strip(), inplace=True)\n",
    "rename_columns(fes_df)\n",
    "\n",
    "fes_df1.rename(columns=lambda x: x.lower().strip(), inplace=True)\n",
    "rename_columns(fes_df1)"
   ]
  },
  {
   "cell_type": "code",
   "execution_count": 9,
   "id": "902db02f",
   "metadata": {
    "pycharm": {
     "name": "#%%\n"
    }
   },
   "outputs": [],
   "source": [
    "perf_df['well'] = perf_df['well'].apply(well_renaming)\n",
    "perf_df1['well'] = perf_df1['well'].apply(well_renaming)\n",
    "fes_df['well'] = fes_df['well'].apply(well_renaming)\n",
    "fes_df1['well'] = fes_df1['well'].apply(well_renaming)\n"
   ]
  },
  {
   "cell_type": "code",
   "execution_count": 14,
   "id": "27fcbb0d",
   "metadata": {
    "pycharm": {
     "name": "#%%\n"
    }
   },
   "outputs": [
    {
     "name": "stdout",
     "output_type": "stream",
     "text": [
      "started reading perf xl\n",
      "done reading perf xl and started processing perf data\n",
      "started reading fes xl\n",
      "done reading fes xl\n",
      "done processing data\n"
     ]
    }
   ],
   "source": [
    "perf_ints = perf_reader(perf_path)\n",
    "fes_dict = fes_reader(fes_path)\n",
    "SOIL_CUT = 60"
   ]
  },
  {
   "cell_type": "code",
   "execution_count": 17,
   "id": "25518751",
   "metadata": {
    "pycharm": {
     "name": "#%%\n"
    }
   },
   "outputs": [
    {
     "data": {
      "text/plain": [
       "1574"
      ]
     },
     "execution_count": 17,
     "metadata": {},
     "output_type": "execute_result"
    }
   ],
   "source": [
    "len(fes_dict.keys())"
   ]
  },
  {
   "cell_type": "code",
   "execution_count": 13,
   "id": "13c1211d",
   "metadata": {},
   "outputs": [
    {
     "data": {
      "text/plain": [
       "1580"
      ]
     },
     "execution_count": 13,
     "metadata": {},
     "output_type": "execute_result"
    }
   ],
   "source": [
    "len(fes_df['well'].unique())"
   ]
  },
  {
   "cell_type": "code",
   "execution_count": 18,
   "id": "3f94b408",
   "metadata": {},
   "outputs": [
    {
     "data": {
      "text/plain": [
       "1579"
      ]
     },
     "execution_count": 18,
     "metadata": {},
     "output_type": "execute_result"
    }
   ],
   "source": [
    "len(perf_ints.keys())"
   ]
  },
  {
   "cell_type": "code",
   "execution_count": null,
   "id": "29e4dd04",
   "metadata": {},
   "outputs": [],
   "source": []
  }
 ],
 "metadata": {
  "kernelspec": {
   "display_name": "Python 3",
   "language": "python",
   "name": "python3"
  },
  "language_info": {
   "codemirror_mode": {
    "name": "ipython",
    "version": 3
   },
   "file_extension": ".py",
   "mimetype": "text/x-python",
   "name": "python",
   "nbconvert_exporter": "python",
   "pygments_lexer": "ipython3",
   "version": "3.6.9"
  }
 },
 "nbformat": 4,
 "nbformat_minor": 5
}