{
 "cells": [
  {
   "cell_type": "code",
   "execution_count": 1,
   "metadata": {
    "pycharm": {
     "name": "#%%\n"
    }
   },
   "outputs": [],
   "source": [
    "import pandas as pd\n",
    "import sys\n",
    "from data_reader import fes_reader, perf_reader, rename_columns\n",
    "from tqdm import tqdm\n",
    "import numpy as np\n",
    "import bisect\n",
    "import json"
   ]
  },
  {
   "cell_type": "code",
   "execution_count": 2,
   "metadata": {
    "pycharm": {
     "name": "#%%\n"
    }
   },
   "outputs": [],
   "source": [
    "# конвертация путей файлов в зависимости от системы\n",
    "def replace_slash(file_path):\n",
    "    platform = sys.platform\n",
    "    slash_map = {'win32': '\\\\',\n",
    "                'cygwin': '\\\\',\n",
    "                'darwin': '/',\n",
    "                'linux2': '/'}\n",
    "    if platform not in slash_map.keys(): platform = 'linux2'\n",
    "    return file_path.replace('\\\\', slash_map[platform])"
   ]
  },
  {
   "cell_type": "code",
   "execution_count": 3,
   "metadata": {
    "pycharm": {
     "name": "#%%\n"
    }
   },
   "outputs": [],
   "source": [
    "perf_path = replace_slash('input_data\\\\' + 'armitz/miner/ARX_PERF.xlsx')\n",
    "fes_path = replace_slash('input_data\\\\armitz/miner/QINF.xlsx')"
   ]
  },
  {
   "cell_type": "code",
   "execution_count": 4,
   "metadata": {
    "pycharm": {
     "name": "#%%\n"
    }
   },
   "outputs": [
    {
     "name": "stdout",
     "output_type": "stream",
     "text": [
      "started reading perf xl\n",
      "done reading perf xl\n",
      "started transform perf table to dict\n",
      "done\n",
      "started reading fes xl\n",
      "done reading fes xl\n"
     ]
    }
   ],
   "source": [
    "perf_ints, perf_df = perf_reader(perf_path)\n",
    "fes_df = fes_reader(fes_path)\n",
    "SOIL_CUT = 60"
   ]
  },
  {
   "cell_type": "code",
   "execution_count": 6,
   "metadata": {
    "pycharm": {
     "name": "#%%\n"
    }
   },
   "outputs": [
    {
     "data": {
      "text/html": [
       "<div>\n",
       "<style scoped>\n",
       "    .dataframe tbody tr th:only-of-type {\n",
       "        vertical-align: middle;\n",
       "    }\n",
       "\n",
       "    .dataframe tbody tr th {\n",
       "        vertical-align: top;\n",
       "    }\n",
       "\n",
       "    .dataframe thead th {\n",
       "        text-align: right;\n",
       "    }\n",
       "</style>\n",
       "<table border=\"1\" class=\"dataframe\">\n",
       "  <thead>\n",
       "    <tr style=\"text-align: right;\">\n",
       "      <th></th>\n",
       "      <th>well</th>\n",
       "      <th>top</th>\n",
       "      <th>bot</th>\n",
       "      <th>soil</th>\n",
       "    </tr>\n",
       "  </thead>\n",
       "  <tbody>\n",
       "    <tr>\n",
       "      <th>0</th>\n",
       "      <td>1</td>\n",
       "      <td>NaN</td>\n",
       "      <td>1648.4</td>\n",
       "      <td>NaN</td>\n",
       "    </tr>\n",
       "    <tr>\n",
       "      <th>1</th>\n",
       "      <td>1</td>\n",
       "      <td>1669.6</td>\n",
       "      <td>1670.6</td>\n",
       "      <td>69.5</td>\n",
       "    </tr>\n",
       "    <tr>\n",
       "      <th>2</th>\n",
       "      <td>1</td>\n",
       "      <td>1678.4</td>\n",
       "      <td>1679.2</td>\n",
       "      <td>NaN</td>\n",
       "    </tr>\n",
       "    <tr>\n",
       "      <th>3</th>\n",
       "      <td>1</td>\n",
       "      <td>1683.0</td>\n",
       "      <td>1684.0</td>\n",
       "      <td>NaN</td>\n",
       "    </tr>\n",
       "    <tr>\n",
       "      <th>4</th>\n",
       "      <td>1</td>\n",
       "      <td>1686.0</td>\n",
       "      <td>1687.0</td>\n",
       "      <td>NaN</td>\n",
       "    </tr>\n",
       "    <tr>\n",
       "      <th>...</th>\n",
       "      <td>...</td>\n",
       "      <td>...</td>\n",
       "      <td>...</td>\n",
       "      <td>...</td>\n",
       "    </tr>\n",
       "    <tr>\n",
       "      <th>156269</th>\n",
       "      <td>32960</td>\n",
       "      <td>1901.0</td>\n",
       "      <td>1901.8</td>\n",
       "      <td>52.9</td>\n",
       "    </tr>\n",
       "    <tr>\n",
       "      <th>156270</th>\n",
       "      <td>32960</td>\n",
       "      <td>1903.0</td>\n",
       "      <td>1905.0</td>\n",
       "      <td>NaN</td>\n",
       "    </tr>\n",
       "    <tr>\n",
       "      <th>156271</th>\n",
       "      <td>32960</td>\n",
       "      <td>1914.0</td>\n",
       "      <td>1915.4</td>\n",
       "      <td>NaN</td>\n",
       "    </tr>\n",
       "    <tr>\n",
       "      <th>156272</th>\n",
       "      <td>32960</td>\n",
       "      <td>1917.6</td>\n",
       "      <td>1919.0</td>\n",
       "      <td>NaN</td>\n",
       "    </tr>\n",
       "    <tr>\n",
       "      <th>156273</th>\n",
       "      <td>32960</td>\n",
       "      <td>1927.0</td>\n",
       "      <td>1927.8</td>\n",
       "      <td>NaN</td>\n",
       "    </tr>\n",
       "  </tbody>\n",
       "</table>\n",
       "<p>156274 rows × 4 columns</p>\n",
       "</div>"
      ],
      "text/plain": [
       "         well     top     bot  soil\n",
       "0           1     NaN  1648.4   NaN\n",
       "1           1  1669.6  1670.6  69.5\n",
       "2           1  1678.4  1679.2   NaN\n",
       "3           1  1683.0  1684.0   NaN\n",
       "4           1  1686.0  1687.0   NaN\n",
       "...       ...     ...     ...   ...\n",
       "156269  32960  1901.0  1901.8  52.9\n",
       "156270  32960  1903.0  1905.0   NaN\n",
       "156271  32960  1914.0  1915.4   NaN\n",
       "156272  32960  1917.6  1919.0   NaN\n",
       "156273  32960  1927.0  1927.8   NaN\n",
       "\n",
       "[156274 rows x 4 columns]"
      ]
     },
     "execution_count": 6,
     "metadata": {},
     "output_type": "execute_result"
    }
   ],
   "source": [
    "fes_df"
   ]
  },
  {
   "cell_type": "code",
   "execution_count": 16,
   "metadata": {
    "pycharm": {
     "name": "#%%\n"
    }
   },
   "outputs": [
    {
     "name": "stderr",
     "output_type": "stream",
     "text": [
      "100%|██████████| 4093/4093 [00:45<00:00, 89.64it/s] \n"
     ]
    }
   ],
   "source": [
    "def get_actual_perf(perf_df):\n",
    "    act_perf = []\n",
    "    for well in tqdm(perf_df['well'].unique()):\n",
    "        well_df = perf_df[perf_df['well'] == well]\n",
    "        act_perf_well = []\n",
    "        for date in well_df['date'].unique():\n",
    "            date_df = well_df[well_df['date'] == date]\n",
    "            for top, bot, perf_type in date_df[['top', 'bot', 'type']].values:\n",
    "                idx = bisect.bisect_left([t['bot'] for t in act_perf_well], top)\n",
    "                if idx == len(act_perf_well):\n",
    "                    act_perf_well.append({'well': well, 'top': top,'bot': bot, 'perf_type': perf_type})\n",
    "                else:\n",
    "                    if act_perf_well[idx]['top'] > top:\n",
    "                        if act_perf_well[idx]['perf_type'] == perf_type:\n",
    "                            act_perf_well[idx]['top'] = top\n",
    "                        else:\n",
    "                            act_perf_well.insert(idx, {'well': well, 'top': top,'bot': bot if act_perf_well[idx]['top'] > bot else act_perf_well[idx]['top'],\n",
    "                                                   'perf_type': perf_type})\n",
    "                    if act_perf_well[idx]['bot'] < bot:\n",
    "                        if act_perf_well[idx]['perf_type'] == perf_type:\n",
    "                            act_perf_well[idx]['bot'] = bot\n",
    "                        else:\n",
    "                            act_perf_well.insert(idx + 1, {'well': well, 'top': act_perf_well[idx]['bot'],'bot': bot, 'perf_type': perf_type})\n",
    "\n",
    "#         act_perf[well] = act_perf_well\n",
    "        act_perf.extend(act_perf_well)\n",
    "    return act_perf\n",
    "\n",
    "\n",
    "#\n",
    "\n",
    "perf =  get_actual_perf(perf_df)"
   ]
  },
  {
   "cell_type": "code",
   "execution_count": 18,
   "metadata": {
    "pycharm": {
     "name": "#%%\n"
    }
   },
   "outputs": [],
   "source": [
    "pd.read_json(json.dumps(perf)).to_excel(\"act_perf.xlsx\")\n"
   ]
  },
  {
   "cell_type": "code",
   "execution_count": 6,
   "metadata": {
    "pycharm": {
     "name": "#%%\n"
    }
   },
   "outputs": [
    {
     "name": "stderr",
     "output_type": "stream",
     "text": [
      "100%|██████████| 6457/6457 [01:33<00:00, 69.06it/s]\n"
     ]
    }
   ],
   "source": [
    "# проверка пласта на перфорированность\n",
    "def is_perf(top, bot, ints):\n",
    "    if ints is None:\n",
    "        return False\n",
    "    for int_perf in ints:\n",
    "        if (top < int_perf['bot']) and (int_perf['top'] < bot):\n",
    "            return True\n",
    "    return False\n",
    "\n",
    "def find_layers(perf_ints, fes_df, soil_cut):\n",
    "    lost_layers = pd.DataFrame(columns=['well', 'top', 'bot', 'soil', 'is_perf'])\n",
    "    for well in tqdm(fes_df['well'].unique()):\n",
    "        well_df = fes_df[fes_df['well'] == well][['well', 'top', 'bot', 'soil']]\n",
    "        well_df.dropna(inplace=True)\n",
    "        if len(well_df) == 0:\n",
    "            continue\n",
    "        ints = perf_ints.get(well)\n",
    "        well_df['is_perf'] = well_df\\\n",
    "            .apply(lambda x: is_perf(x['top'], x['bot'], ints), axis=1)\n",
    "        non_perf = well_df[(~well_df['is_perf']) &\n",
    "                           (well_df['soil'] > soil_cut)]\n",
    "        lost_layers = lost_layers.append(non_perf, ignore_index=True)\n",
    "    return lost_layers\n",
    "\n",
    "lost_layers = find_layers(perf_ints, fes_df, SOIL_CUT)"
   ]
  },
  {
   "cell_type": "code",
   "execution_count": 12,
   "metadata": {
    "pycharm": {
     "name": "#%%\n"
    }
   },
   "outputs": [],
   "source": []
  },
  {
   "cell_type": "code",
   "execution_count": null,
   "metadata": {},
   "outputs": [],
   "source": []
  }
 ],
 "metadata": {
  "kernelspec": {
   "display_name": "Python 3",
   "language": "python",
   "name": "python3"
  },
  "language_info": {
   "codemirror_mode": {
    "name": "ipython",
    "version": 3
   },
   "file_extension": ".py",
   "mimetype": "text/x-python",
   "name": "python",
   "nbconvert_exporter": "python",
   "pygments_lexer": "ipython3",
   "version": "3.6.9"
  }
 },
 "nbformat": 4,
 "nbformat_minor": 5
}