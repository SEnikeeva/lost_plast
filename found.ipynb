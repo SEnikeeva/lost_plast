{
 "cells": [
  {
   "cell_type": "code",
   "execution_count": 1,
   "metadata": {
    "pycharm": {
     "name": "#%%\n"
    }
   },
   "outputs": [],
   "source": [
    "import json\n",
    "import logging\n",
    "import os\n",
    "import sys\n",
    "\n",
    "import pandas as pd\n",
    "\n",
    "from data_reader import DataReader\n",
    "from finder import find_layers\n",
    "from writexl import write_layers\n",
    "\n",
    "pd.set_option('display.max_rows', 10000)\n",
    "pd.set_option('display.max_columns', 500)\n",
    "pd.set_option('display.width', 1000)"
   ]
  },
  {
   "cell_type": "code",
   "execution_count": 2,
   "metadata": {
    "pycharm": {
     "name": "#%%\n"
    }
   },
   "outputs": [],
   "source": [
    "# конвертация путей файлов в зависимости от системы\n",
    "def replace_slash(file_path):\n",
    "    platform = sys.platform\n",
    "    slash_map = {'win32': '\\\\',\n",
    "                 'cygwin': '\\\\',\n",
    "                 'darwin': '/',\n",
    "                 'linux2': '/'}\n",
    "    if platform not in slash_map.keys(): platform = 'linux2'\n",
    "    return file_path.replace('\\\\', slash_map[platform])\n",
    "\n",
    "\n",
    "# очистка папки output_folder\n",
    "def clear_out_folder(output_folder):\n",
    "    files = os.listdir(output_folder)\n",
    "    for f in files:\n",
    "        path_dir = replace_slash(output_folder + \"\\\\\" + f)\n",
    "        os.remove(path_dir)\n"
   ]
  },
  {
   "cell_type": "code",
   "execution_count": 3,
   "metadata": {
    "pycharm": {
     "name": "#%%\n"
    }
   },
   "outputs": [
    {
     "name": "stdout",
     "output_type": "stream",
     "text": [
      "started reading perf xl\n",
      "done reading perf xl and started processing perf data\n",
      "started reading fes xl\n"
     ]
    },
    {
     "name": "stderr",
     "output_type": "stream",
     "text": [
      "100%|██████████| 1579/1579 [00:00<00:00, 20743.85it/s]"
     ]
    },
    {
     "name": "stdout",
     "output_type": "stream",
     "text": [
      "done reading fes xl\n",
      "done processing data\n"
     ]
    },
    {
     "name": "stderr",
     "output_type": "stream",
     "text": [
      "\n",
      "100%|██████████| 1574/1574 [00:00<00:00, 55810.59it/s]\n"
     ]
    }
   ],
   "source": [
    "input_folder = \"input_data\"\n",
    "out_folder = \"output_data\"\n",
    "output_path_l = replace_slash(out_folder + \"\\\\\" + \"non_perf_layers.xlsx\")\n",
    "output_path_a = replace_slash(out_folder + \"\\\\\" + \"act_perf.xlsx\")\n",
    "\n",
    "if not os.path.exists(out_folder):\n",
    "    os.makedirs(out_folder)\n",
    "else:\n",
    "    clear_out_folder(out_folder)\n",
    "\n",
    "out_path_log = replace_slash(out_folder + \"\\\\\" + \"Report.txt\")\n",
    "logging.basicConfig(format=u'%(levelname)-8s : %(message)s', filename=out_path_log, filemode='w')\n",
    "\n",
    "with open(\"config.json\", 'r') as f:\n",
    "    try:\n",
    "        conf = json.load(f)\n",
    "        SOIL_CUT = float(conf[\"SOIL_CUT\"])\n",
    "        perf_path = conf[\"perf_path\"]\n",
    "        fes_path = conf[\"fes_path\"]\n",
    "    except BaseException as e:\n",
    "        logging.error(\"Error loading config file. \" + str(e))\n",
    "        sys.exit()\n",
    "perf_path = replace_slash(input_folder + '\\\\' + perf_path)\n",
    "fes_path = replace_slash(input_folder + '\\\\' + fes_path)\n",
    "\n",
    "dr = DataReader()\n",
    "try:\n",
    "    perf_ints = dr.perf_reader(perf_path)\n",
    "except BaseException as e:\n",
    "    logging.error(\"Error loading perf file. \" + str(e))\n",
    "    sys.exit()\n",
    "try:\n",
    "    fes_dict = dr.fes_reader(fes_path)\n",
    "except BaseException as e:\n",
    "    logging.error(\"Error loading fes file. \" + str(e))\n",
    "    sys.exit()\n",
    "\n",
    "perf_rig_diff, rig_perf_diff = dr.well_diff()\n",
    "if len(perf_rig_diff) > 0:\n",
    "    logging.warning(\"These wells in perf file are absent in rigis \"\n",
    "                    + str(perf_rig_diff))\n",
    "if len(rig_perf_diff) > 0:\n",
    "    logging.warning(\"These wells in rigis file are absent in perf \"\n",
    "                    + str(rig_perf_diff))\n",
    "\n",
    "try:\n",
    "    lost_layers = find_layers(perf_ints, fes_dict, SOIL_CUT)\n",
    "except BaseException as e:\n",
    "    logging.error(\"Error while finding layers \" + str(e))\n",
    "    sys.exit()"
   ]
  },
  {
   "cell_type": "code",
   "execution_count": 7,
   "metadata": {},
   "outputs": [
    {
     "name": "stderr",
     "output_type": "stream",
     "text": [
      "100%|██████████| 6195/6195 [00:01<00:00, 5647.55it/s]\n",
      "100%|██████████| 3988/3988 [00:00<00:00, 50397.67it/s]\n",
      "100%|██████████| 6010/6010 [00:00<00:00, 44575.44it/s]\n",
      "100%|██████████| 6010/6010 [00:00<00:00, 6169.05it/s]\n"
     ]
    }
   ],
   "source": [
    "try:\n",
    "    write_layers(output_path_l, lost_layers)\n",
    "except BaseException as e:\n",
    "    logging.error(\"Error while writing results \" + str(e))\n",
    "    sys.exit()\n"
   ]
  },
  {
   "cell_type": "code",
   "execution_count": null,
   "metadata": {},
   "outputs": [],
   "source": []
  }
 ],
 "metadata": {
  "kernelspec": {
   "display_name": "Python 3",
   "language": "python",
   "name": "python3"
  },
  "language_info": {
   "codemirror_mode": {
    "name": "ipython",
    "version": 3
   },
   "file_extension": ".py",
   "mimetype": "text/x-python",
   "name": "python",
   "nbconvert_exporter": "python",
   "pygments_lexer": "ipython3",
   "version": "3.6.9"
  }
 },
 "nbformat": 4,
 "nbformat_minor": 5
}