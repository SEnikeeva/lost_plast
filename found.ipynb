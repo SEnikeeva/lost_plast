{
 "cells": [
  {
   "cell_type": "code",
   "execution_count": null,
   "id": "774e8742",
   "metadata": {
    "pycharm": {
     "name": "#%%\n"
    }
   },
   "outputs": [],
   "source": [
    "import pandas as pd\n",
    "import sys\n",
    "from data_reader import fes_reader, perf_reader\n",
    "from tqdm import tqdm\n",
    "import bisect\n",
    "import json\n",
    "import datetime"
   ]
  },
  {
   "cell_type": "code",
   "execution_count": null,
   "id": "b1cbc696",
   "metadata": {
    "pycharm": {
     "name": "#%%\n"
    }
   },
   "outputs": [],
   "source": [
    "# конвертация путей файлов в зависимости от системы\n",
    "def replace_slash(file_path):\n",
    "    platform = sys.platform\n",
    "    slash_map = {'win32': '\\\\',\n",
    "                'cygwin': '\\\\',\n",
    "                'darwin': '/',\n",
    "                'linux2': '/'}\n",
    "    if platform not in slash_map.keys(): platform = 'linux2'\n",
    "    return file_path.replace('\\\\', slash_map[platform])"
   ]
  },
  {
   "cell_type": "code",
   "execution_count": null,
   "id": "951ae883",
   "metadata": {
    "pycharm": {
     "name": "#%%\n"
    }
   },
   "outputs": [],
   "source": [
    "perf_path = replace_slash('input_data\\\\' + 'armitz/miner/ARX_PERF.xlsx')\n",
    "fes_path = replace_slash('input_data\\\\armitz/miner/QINF.xlsx')"
   ]
  },
  {
   "cell_type": "code",
   "execution_count": null,
   "id": "4eac7956",
   "metadata": {
    "pycharm": {
     "name": "#%%\n"
    }
   },
   "outputs": [],
   "source": [
    "perf_df = perf_reader(perf_path)\n",
    "fes_df = fes_reader(fes_path)\n",
    "SOIL_CUT = 60"
   ]
  },
  {
   "cell_type": "code",
   "execution_count": null,
   "id": "a630807c",
   "metadata": {
    "pycharm": {
     "name": "#%%\n"
    }
   },
   "outputs": [],
   "source": [
    "fes_df"
   ]
  },
  {
   "cell_type": "code",
   "execution_count": null,
   "id": "7189a4c4",
   "metadata": {
    "pycharm": {
     "name": "#%%\n"
    }
   },
   "outputs": [],
   "source": [
    "perf_df"
   ]
  },
  {
   "cell_type": "code",
   "execution_count": null,
   "id": "72e58464",
   "metadata": {},
   "outputs": [],
   "source": [
    "# проверка пласта на перфорированность\n",
    "def is_perf(top, bot, ints):\n",
    "    if ints is None:\n",
    "        return False\n",
    "    for int_perf in ints:\n",
    "        if (top < int_perf['bot']) and (int_perf['top'] < bot):\n",
    "            return True\n",
    "    return False\n",
    "\n",
    "\n",
    "def find_layers(perf_ints, fes_df, soil_cut):\n",
    "    lost_layers = pd.DataFrame(columns=['well', 'top', 'bot', 'soil', 'is_perf'])\n",
    "    for well in tqdm(fes_df['well'].unique()):\n",
    "        well_df = fes_df[fes_df['well'] == well][['well', 'top', 'bot', 'soil']]\n",
    "        well_df.dropna(inplace=True)\n",
    "        if len(well_df) == 0:\n",
    "            continue\n",
    "        ints = perf_ints.get(well)\n",
    "        well_df['is_perf'] = well_df\\\n",
    "            .apply(lambda x: is_perf(x['top'], x['bot'], ints), axis=1)\n",
    "        non_perf = well_df[(~well_df['is_perf']) &\n",
    "                           (well_df['soil'] > soil_cut)]\n",
    "        lost_layers = lost_layers.append(non_perf, ignore_index=True)\n",
    "    return lost_layers\n",
    "\n",
    "plasts = find_layers(perf_df, fes_df, SOIL_CUT)"
   ]
  },
  {
   "cell_type": "code",
   "execution_count": 25,
   "id": "a4b9588f",
   "metadata": {
    "pycharm": {
     "name": "#%%\n"
    }
   },
   "outputs": [
    {
     "name": "stderr",
     "output_type": "stream",
     "text": [
      "100%|██████████| 3953/3953 [00:16<00:00, 232.67it/s]\n"
     ]
    }
   ],
   "source": [
    "perf_ints = {}\n",
    "for well in tqdm(perf_df['well'].unique()):\n",
    "    well_df = perf_df[perf_df['well'] == well][['top', 'bot', 'type', 'date']]\n",
    "    perf_ints[well] = well_df.to_dict(orient='records')"
   ]
  },
  {
   "cell_type": "code",
   "execution_count": null,
   "id": "cf08efa9",
   "metadata": {
    "pycharm": {
     "name": "#%%\n"
    }
   },
   "outputs": [],
   "source": [
    "def bisect_left(a, x, lo=0, hi=None, param='bot'):\n",
    "    if lo < 0:\n",
    "        raise ValueError('lo must be non-negative')\n",
    "    if hi is None:\n",
    "        hi = len(a)\n",
    "    while lo < hi:\n",
    "        mid = (lo + hi) // 2\n",
    "        if a[mid][param] < x:\n",
    "            lo = mid + 1\n",
    "        else:\n",
    "            hi = mid\n",
    "    return lo\n",
    "\n",
    "def get_actual_perf(perf_ints, act_perf_year=None):\n",
    "    act_perf = []\n",
    "    if act_perf_year is None:\n",
    "        act_perf_year = datetime.datetime.now().date()\n",
    "    for well in tqdm(perf_ints.keys()):\n",
    "        act_perf_well = []\n",
    "        for row in perf_ints[well]:\n",
    "            if row['date'] > act_perf_year:\n",
    "                continue\n",
    "            top = row['top']\n",
    "            bot = row['bot']\n",
    "            perf_type = row['type']\n",
    "\n",
    "            idx = bisect_left(act_perf_well, top)\n",
    "            if idx == len(act_perf_well):\n",
    "                act_perf_well.append({'well': well, 'top': top, 'bot': bot,\n",
    "                                      'perf_type': perf_type})\n",
    "            else:\n",
    "                shift = 1\n",
    "                if act_perf_well[idx]['top'] > top:\n",
    "                    if act_perf_well[idx]['perf_type'] == perf_type:\n",
    "                        act_perf_well[idx]['top'] = top\n",
    "                    else:\n",
    "                        act_perf_well.insert(idx,\n",
    "                                             {'well': well, 'top': top,\n",
    "                                              'bot': bot if\n",
    "                                              act_perf_well[idx][\n",
    "                                                  'top'] > bot else\n",
    "                                              act_perf_well[idx]['top'],\n",
    "                                              'perf_type': perf_type})\n",
    "                        shift += 1\n",
    "                if act_perf_well[idx]['bot'] < bot:\n",
    "                    if act_perf_well[idx]['perf_type'] == perf_type:\n",
    "                        act_perf_well[idx]['bot'] = bot\n",
    "                    else:\n",
    "                        act_perf_well.insert(idx + shift,\n",
    "                                             {'well': well,\n",
    "                                              'top': act_perf_well[idx]['bot'],\n",
    "                                              'bot': bot,\n",
    "                                              'perf_type': perf_type})\n",
    "\n",
    "        act_perf.extend(act_perf_well)\n",
    "    return act_perf"
   ]
  },
  {
   "cell_type": "code",
   "execution_count": null,
   "id": "6af5b2ba",
   "metadata": {
    "pycharm": {
     "name": "#%%\n"
    }
   },
   "outputs": [],
   "source": [
    "perf = get_actual_perf(perf_ints)\n"
   ]
  },
  {
   "cell_type": "code",
   "execution_count": 10,
   "id": "4bc038cd",
   "metadata": {
    "pycharm": {
     "name": "#%%\n"
    }
   },
   "outputs": [],
   "source": [
    "gr = perf_df.groupby('well', sort=False)"
   ]
  },
  {
   "cell_type": "code",
   "execution_count": 26,
   "id": "e21b6bc8",
   "metadata": {
    "pycharm": {
     "name": "#%%\n"
    }
   },
   "outputs": [],
   "source": [
    "perf_well = perf_df.set_index('well')\n",
    "\n",
    "g = perf_well.groupby(level=0, sort=False)\n",
    "\n",
    "perf_ints2 = g.apply(lambda x: [{'type': e[0], 'date': e[1], 'top': e[2], 'bot': e[3]} for e in x.values]).to_dict()"
   ]
  },
  {
   "cell_type": "code",
   "execution_count": null,
   "id": "543b28d0",
   "metadata": {},
   "outputs": [],
   "source": []
  }
 ],
 "metadata": {
  "kernelspec": {
   "display_name": "PyCharm (lost_plast)",
   "language": "python",
   "name": "pycharm-2664e013"
  },
  "language_info": {
   "codemirror_mode": {
    "name": "ipython",
    "version": 3
   },
   "file_extension": ".py",
   "mimetype": "text/x-python",
   "name": "python",
   "nbconvert_exporter": "python",
   "pygments_lexer": "ipython3",
   "version": "3.6.9"
  }
 },
 "nbformat": 4,
 "nbformat_minor": 5
}