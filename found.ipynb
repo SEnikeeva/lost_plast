{
 "cells": [
  {
   "cell_type": "code",
   "execution_count": 1,
   "id": "85e32622",
   "metadata": {
    "pycharm": {
     "name": "#%%\n"
    }
   },
   "outputs": [],
   "source": [
    "import pandas as pd\n",
    "import sys\n",
    "from data_reader import DataReader, rename_columns\n",
    "from tqdm import tqdm\n",
    "import bisect\n",
    "import json\n",
    "import datetime\n",
    "\n",
    "import json\n",
    "import logging\n",
    "import os\n",
    "import sys\n",
    "from datetime import date\n",
    "\n",
    "from finder import find_layers\n",
    "from actual_perf import get_actual_perf\n",
    "from writexl import write_layers, write_act_perf\n",
    "pd.set_option('display.max_rows', 10000)\n",
    "pd.set_option('display.max_columns', 500)\n",
    "pd.set_option('display.width', 1000)"
   ]
  },
  {
   "cell_type": "code",
   "execution_count": 2,
   "id": "68772448",
   "metadata": {
    "pycharm": {
     "name": "#%%\n"
    }
   },
   "outputs": [],
   "source": [
    "# конвертация путей файлов в зависимости от системы\n",
    "def replace_slash(file_path):\n",
    "    platform = sys.platform\n",
    "    slash_map = {'win32': '\\\\',\n",
    "                 'cygwin': '\\\\',\n",
    "                 'darwin': '/',\n",
    "                 'linux2': '/'}\n",
    "    if platform not in slash_map.keys(): platform = 'linux2'\n",
    "    return file_path.replace('\\\\', slash_map[platform])\n",
    "\n",
    "\n",
    "# очистка папки output_folder\n",
    "def clear_out_folder(output_folder):\n",
    "    files = os.listdir(output_folder)\n",
    "    for f in files:\n",
    "        path_dir = replace_slash(output_folder + \"\\\\\" + f)\n",
    "        os.remove(path_dir)\n",
    "\n",
    "\n",
    "def get_year(conf_perf_year):\n",
    "    if conf_perf_year == '':\n",
    "        return None\n",
    "    try:\n",
    "        return date(year=int(conf_perf_year), month=1, day=1)\n",
    "    except:\n",
    "        return None\n",
    "\n",
    "def rename_columns(df):\n",
    "    col_names = {'well': '', 'top': '', 'bot': '',\n",
    "                 'soil': '', 'date': '', 'type': '', 'type_perf': '',\n",
    "                 'layer': ''}\n",
    "    for column in df.columns.values:\n",
    "        if ('скв' in column) or ('skw_nam' in column) or (column == 'skw'):\n",
    "            col_names['well'] = column\n",
    "        elif ('verh' in column) or ('krow' == column) or ('верх' in column) or ('perf1_t' in column):\n",
    "            col_names['top'] = column\n",
    "        elif ('niz' in column) or ('podosh' in column) or ('низ' in column) or ('perf2_t' in column):\n",
    "            col_names['bot'] = column\n",
    "        elif ('nnas' in column) or ('н_нас' in column):\n",
    "            col_names['soil'] = column\n",
    "        elif ('дата_перф' in column) or (column == 'dat'):\n",
    "            col_names['date'] = column\n",
    "        elif ('цель' in column) or ('_cel' in column):\n",
    "            col_names['type'] = column\n",
    "        elif ('tip_perf' in column):\n",
    "            col_names['type_perf'] = column\n",
    "        elif ('plast_nam' in column):\n",
    "            col_names['layer'] = column\n",
    "    df.rename(columns={col_names['bot']: 'bot', col_names['top']: 'top',\n",
    "                       col_names['well']: 'well', col_names['soil']: 'soil',\n",
    "                       col_names['date']: 'date', col_names['type']: 'type',\n",
    "                       col_names['type_perf']: 'type_perf',\n",
    "                       col_names['layer']: 'layer'},\n",
    "              inplace=True)\n",
    "    col_names_set = set(df.columns)\n",
    "    df.drop(columns=list(col_names_set.difference(col_names.keys())),\n",
    "            inplace=True)"
   ]
  },
  {
   "cell_type": "code",
   "execution_count": 3,
   "id": "7e086191",
   "metadata": {
    "pycharm": {
     "name": "#%%\n"
    }
   },
   "outputs": [
    {
     "name": "stdout",
     "output_type": "stream",
     "text": [
      "started reading perf xl\n",
      "done reading perf xl and started processing perf data\n",
      "started reading fes xl\n"
     ]
    },
    {
     "name": "stderr",
     "output_type": "stream",
     "text": [
      "100%|██████████| 1574/1574 [00:00<00:00, 62674.65it/s]\n",
      "100%|██████████| 1579/1579 [00:00<00:00, 33452.06it/s]"
     ]
    },
    {
     "name": "stdout",
     "output_type": "stream",
     "text": [
      "done reading fes xl\n",
      "done processing data\n"
     ]
    },
    {
     "name": "stderr",
     "output_type": "stream",
     "text": [
      "\n"
     ]
    }
   ],
   "source": [
    "input_folder = \"input_data\"\n",
    "out_folder = \"output_data\"\n",
    "output_path_l = replace_slash(out_folder + \"\\\\\" + \"non_perf_layers.xlsx\")\n",
    "output_path_a = replace_slash(out_folder + \"\\\\\" + \"act_perf.xlsx\")\n",
    "\n",
    "if not os.path.exists(out_folder):\n",
    "    os.makedirs(out_folder)\n",
    "else:\n",
    "    clear_out_folder(out_folder)\n",
    "\n",
    "out_path_log = replace_slash(out_folder + \"\\\\\" + \"Report.txt\")\n",
    "logging.basicConfig(format=u'%(levelname)-8s : %(message)s', filename=out_path_log, filemode='w')\n",
    "\n",
    "with open(\"config.json\", 'r') as f:\n",
    "    try:\n",
    "        conf = json.load(f)\n",
    "        SOIL_CUT = float(conf[\"SOIL_CUT\"])\n",
    "        perf_path = conf[\"perf_path\"]\n",
    "        fes_path = conf[\"fes_path\"]\n",
    "        act_perf_year = get_year(conf[\"act_perf_year\"])\n",
    "    except BaseException as e:\n",
    "        logging.error(\"Error loading config file. \" + str(e))\n",
    "        sys.exit()\n",
    "perf_path = replace_slash(input_folder + '\\\\' + perf_path)\n",
    "fes_path = replace_slash(input_folder + '\\\\' + fes_path)\n",
    "\n",
    "dr = DataReader()\n",
    "try:\n",
    "    perf_ints = dr.perf_reader(perf_path)\n",
    "except BaseException as e:\n",
    "    logging.error(\"Error loading perf file. \" + str(e))\n",
    "    sys.exit()\n",
    "try:\n",
    "    fes_dict = dr.fes_reader(fes_path)\n",
    "except BaseException as e:\n",
    "    logging.error(\"Error loading fes file. \" + str(e))\n",
    "    sys.exit()\n",
    "\n",
    "perf_rig_diff, rig_perf_diff = dr.well_diff()\n",
    "if len(perf_rig_diff) > 0:\n",
    "    logging.warning(\"These wells in perf file are absent in rigis \"\n",
    "                    + str(perf_rig_diff))\n",
    "if len(rig_perf_diff) > 0:\n",
    "    logging.warning(\"These wells in rigis file are absent in perf \"\n",
    "                    + str(rig_perf_diff))\n",
    "\n",
    "try:\n",
    "    lost_layers = find_layers(perf_ints, fes_dict, SOIL_CUT)\n",
    "except BaseException as e:\n",
    "    logging.error(\"Error while finding layers \" + str(e))\n",
    "    sys.exit()\n",
    "\n",
    "try:\n",
    "    act_perf = get_actual_perf(perf_ints, act_perf_year)\n",
    "except BaseException as e:\n",
    "    logging.error(\"Error while getting the actual perforation \" + str(e))\n",
    "    sys.exit()"
   ]
  },
  {
   "cell_type": "code",
   "execution_count": 4,
   "id": "79fb94a9",
   "metadata": {
    "pycharm": {
     "name": "#%%\n"
    }
   },
   "outputs": [],
   "source": [
    "wells1 = list(dr.sl_wells)"
   ]
  },
  {
   "cell_type": "code",
   "execution_count": 5,
   "id": "acdd1400",
   "metadata": {
    "pycharm": {
     "name": "#%%\n"
    }
   },
   "outputs": [],
   "source": [
    "dr.sl_wells = set()"
   ]
  },
  {
   "cell_type": "code",
   "execution_count": 6,
   "id": "56ada757",
   "metadata": {
    "pycharm": {
     "name": "#%%\n"
    }
   },
   "outputs": [],
   "source": [
    "wells2 = dr.sl_wells"
   ]
  },
  {
   "cell_type": "code",
   "execution_count": 7,
   "id": "b571c294",
   "metadata": {},
   "outputs": [
    {
     "name": "stderr",
     "output_type": "stream",
     "text": [
      "100%|██████████| 6195/6195 [00:00<00:00, 7353.02it/s]\n",
      "100%|██████████| 3988/3988 [00:00<00:00, 66871.43it/s]\n",
      "100%|██████████| 4136/4136 [00:00<00:00, 65563.74it/s]\n",
      "100%|██████████| 4136/4136 [00:00<00:00, 31338.38it/s]\n"
     ]
    }
   ],
   "source": [
    "act_df = pd.read_json(json.dumps(act_perf))\n",
    "\n",
    "act_df2 =  pd.read_json('perf2.json')\n",
    "\n",
    "act_df2.rename(columns=lambda x: x.lower().strip(), inplace=True)\n",
    "\n",
    "rename_columns(act_df2)\n",
    "\n",
    "act_df2['well'] = act_df2['well'].apply(dr.well_renaming)\n",
    "act_df = act_df[act_df['perf_type'] == 1]\n",
    "act_df2.sort_values(by=['well', 'top', 'bot'], ascending=False, inplace=True)\n",
    "act_df.sort_values(by=['well', 'top', 'bot'], ascending=False, inplace=True)\n",
    "act_df.drop(act_df[act_df['top'] == act_df['bot']].index, inplace=True)\n",
    "act_df2.drop(act_df2[act_df2['top'] == act_df2['bot']].index, inplace=True)\n",
    "act_df.reset_index(drop=True, inplace=True)\n",
    "act_df2.reset_index(drop=True, inplace=True)\n",
    "del_idxs = []\n",
    "for i in tqdm(range(len(act_df2) - 1)):\n",
    "    if ((act_df2.loc[i, 'top'] == act_df2.loc[i + 1, 'bot']) or (act_df2.loc[i, 'top'] == act_df2.loc[i + 1, 'top'])) and (act_df2.loc[i, 'well'] == act_df2.loc[i + 1, 'well']):\n",
    "        act_df2.loc[i + 1, 'bot'] = act_df2.loc[i, 'bot']\n",
    "        del_idxs.append(i)\n",
    "act_df2.drop(del_idxs, inplace=True)\n",
    "act_df2.reset_index(drop=True, inplace=True)\n",
    "\n",
    "del_idxs = []\n",
    "for i in tqdm(range(len(act_df2) - 1)):\n",
    "    if (act_df2.loc[i, 'bot'] <= act_df2.loc[i + 1, 'bot']) and (act_df2.loc[i, 'well'] == act_df2.loc[i + 1, 'well']):\n",
    "        del_idxs.append(i)\n",
    "act_df2.drop(del_idxs, inplace=True)\n",
    "act_df2.reset_index(drop=True, inplace=True)\n",
    "\n",
    "del_idxs = []\n",
    "for i in tqdm(range(len(act_df) - 1)):\n",
    "    if (act_df.loc[i, 'bot'] <= act_df.loc[i + 1, 'bot']) and (act_df.loc[i, 'well'] == act_df.loc[i + 1, 'well']):\n",
    "        del_idxs.append(i)\n",
    "act_df.drop(del_idxs, inplace=True)\n",
    "act_df.reset_index(drop=True, inplace=True)\n",
    "\n",
    "del_idxs = []\n",
    "for i in tqdm(range(len(act_df) - 1)):\n",
    "    if ((act_df.loc[i, 'top'] == act_df.loc[i + 1, 'bot']) or (act_df.loc[i, 'top'] == act_df.loc[i + 1, 'top'])) and (act_df.loc[i, 'well'] == act_df.loc[i + 1, 'well']):\n",
    "        act_df.loc[i + 1, 'bot'] = act_df.loc[i, 'bot']\n",
    "        del_idxs.append(i)\n",
    "act_df.drop(del_idxs, inplace=True)\n",
    "act_df.reset_index(drop=True, inplace=True)\n",
    "\n",
    "                    \n",
    "len(list(set(act_df['well'].unique()).difference(act_df2['well'].unique())))\n",
    "\n",
    "len(list(set(act_df2['well'].unique()).difference(act_df['well'].unique())))\n",
    "\n",
    "act_df_intersec = act_df[act_df['well'].isin(act_df2['well'].unique())]\n",
    "\n",
    "act_df_diff = act_df_intersec[act_df_intersec['perf_type'] == 1][['well', 'top', 'bot', 'layer']]\n",
    "\n",
    "diff = act_df_diff[~act_df_diff.apply(tuple,1).isin(act_df2.apply(tuple,1))]\n",
    "diff2 = act_df2[~act_df2.apply(tuple,1).isin(act_df_diff.apply(tuple,1))]"
   ]
  },
  {
   "cell_type": "code",
   "execution_count": 8,
   "id": "a9551c76",
   "metadata": {},
   "outputs": [
    {
     "name": "stdout",
     "output_type": "stream",
     "text": [
      "59\n",
      "46\n"
     ]
    }
   ],
   "source": [
    "print(len(diff))\n",
    "print(len(diff2))"
   ]
  },
  {
   "cell_type": "code",
   "execution_count": 9,
   "id": "14c1b85a",
   "metadata": {},
   "outputs": [
    {
     "data": {
      "text/html": [
       "<div>\n",
       "<style scoped>\n",
       "    .dataframe tbody tr th:only-of-type {\n",
       "        vertical-align: middle;\n",
       "    }\n",
       "\n",
       "    .dataframe tbody tr th {\n",
       "        vertical-align: top;\n",
       "    }\n",
       "\n",
       "    .dataframe thead th {\n",
       "        text-align: right;\n",
       "    }\n",
       "</style>\n",
       "<table border=\"1\" class=\"dataframe\">\n",
       "  <thead>\n",
       "    <tr style=\"text-align: right;\">\n",
       "      <th></th>\n",
       "      <th>well</th>\n",
       "      <th>top</th>\n",
       "      <th>bot</th>\n",
       "      <th>layer</th>\n",
       "    </tr>\n",
       "  </thead>\n",
       "  <tbody>\n",
       "    <tr>\n",
       "      <th>133</th>\n",
       "      <td>9599</td>\n",
       "      <td>1679.6</td>\n",
       "      <td>1682.0</td>\n",
       "      <td>Д0+Д1Г2+3</td>\n",
       "    </tr>\n",
       "    <tr>\n",
       "      <th>268</th>\n",
       "      <td>9544</td>\n",
       "      <td>1729.4</td>\n",
       "      <td>1733.3</td>\n",
       "      <td>Д0+Д1Б2</td>\n",
       "    </tr>\n",
       "    <tr>\n",
       "      <th>269</th>\n",
       "      <td>9544</td>\n",
       "      <td>1722.0</td>\n",
       "      <td>1725.0</td>\n",
       "      <td>Д0+Д1A</td>\n",
       "    </tr>\n",
       "    <tr>\n",
       "      <th>585</th>\n",
       "      <td>3682д</td>\n",
       "      <td>1728.8</td>\n",
       "      <td>1731.6</td>\n",
       "      <td>Д0+Д1B</td>\n",
       "    </tr>\n",
       "    <tr>\n",
       "      <th>595</th>\n",
       "      <td>3680а</td>\n",
       "      <td>1688.8</td>\n",
       "      <td>1692.0</td>\n",
       "      <td>Д0+Д1Г1</td>\n",
       "    </tr>\n",
       "  </tbody>\n",
       "</table>\n",
       "</div>"
      ],
      "text/plain": [
       "      well     top     bot      layer\n",
       "133   9599  1679.6  1682.0  Д0+Д1Г2+3\n",
       "268   9544  1729.4  1733.3    Д0+Д1Б2\n",
       "269   9544  1722.0  1725.0     Д0+Д1A\n",
       "585  3682д  1728.8  1731.6     Д0+Д1B\n",
       "595  3680а  1688.8  1692.0    Д0+Д1Г1"
      ]
     },
     "execution_count": 9,
     "metadata": {},
     "output_type": "execute_result"
    }
   ],
   "source": [
    "diff2.head()"
   ]
  },
  {
   "cell_type": "code",
   "execution_count": 10,
   "id": "ad798dad",
   "metadata": {},
   "outputs": [],
   "source": [
    "diff3 = pd.concat([act_df2, act_df_diff]).drop_duplicates(keep=False)"
   ]
  },
  {
   "cell_type": "code",
   "execution_count": 11,
   "id": "a88e6f56",
   "metadata": {
    "scrolled": true
   },
   "outputs": [
    {
     "name": "stdout",
     "output_type": "stream",
     "text": [
      "59\n",
      "46\n",
      "105\n"
     ]
    }
   ],
   "source": [
    "print(len(diff))\n",
    "print(len(diff2))\n",
    "print(len(diff3))"
   ]
  },
  {
   "cell_type": "code",
   "execution_count": 12,
   "id": "1c90accc",
   "metadata": {},
   "outputs": [
    {
     "name": "stdout",
     "output_type": "stream",
     "text": [
      "75\n",
      "['10792', '10801', '10810', '10827д', '10832', '10840', '10843', '10868', '10887', '10894', '1205', '1214', '134д', '145', '14936', '14942', '14963', '152', '153', '154', '15708', '15751', '15755', '16555', '176д', '179', '199', '20113', '20140а', '20174', '20199', '20211а', '20214', '20225', '20236', '20282', '20300', '20323', '20384', '20408', '20415', '20457', '20505', '20508', '20531', '20645', '20648', '20652', '20690', '216д', '231', '242', '2476', '270', '290', '294', '3056', '3100', '3115', '3123', '3128', '3133', '3179', '3184', '3192', '32660', '32693', '3469', '3680а', '3682д', '440д', '9525', '9544', '9599', '9624']\n"
     ]
    }
   ],
   "source": [
    "diff_wells = diff3['well'].unique()\n",
    "print(len(diff_wells))\n",
    "print(sorted(diff_wells))"
   ]
  },
  {
   "cell_type": "code",
   "execution_count": 13,
   "id": "81633900",
   "metadata": {},
   "outputs": [],
   "source": [
    "pd.DataFrame(data={'скважины': diff_wells}).to_excel('diff_wells.xlsx', index=False)"
   ]
  },
  {
   "cell_type": "code",
   "execution_count": 14,
   "id": "e83f18ac",
   "metadata": {},
   "outputs": [],
   "source": [
    "diff_df = pd.DataFrame(columns=['source','well', 'top', 'bot', 'layer'])"
   ]
  },
  {
   "cell_type": "code",
   "execution_count": 15,
   "id": "042e0adf",
   "metadata": {},
   "outputs": [],
   "source": [
    "act_df2['source'] = 'армитс'\n",
    "act_df_diff['source'] = 'local'"
   ]
  },
  {
   "cell_type": "code",
   "execution_count": 16,
   "id": "4690b2d2",
   "metadata": {},
   "outputs": [],
   "source": [
    "for well in diff_wells:\n",
    "    diff_df = diff_df.append(act_df_diff[act_df_diff['well']== well])\n",
    "    diff_df = diff_df.append(act_df2[act_df2['well']== well])    "
   ]
  },
  {
   "cell_type": "code",
   "execution_count": 17,
   "id": "cd6a8d8e",
   "metadata": {},
   "outputs": [],
   "source": [
    "diff_df.to_excel('diff_wells_info.xlsx', index=False)"
   ]
  },
  {
   "cell_type": "code",
   "execution_count": 18,
   "id": "2a177971",
   "metadata": {},
   "outputs": [
    {
     "data": {
      "text/plain": [
       "[{'type': 0,\n",
       "  'date': datetime.date(2017, 12, 6),\n",
       "  'top': 1749.0,\n",
       "  'bot': 1752.0,\n",
       "  'layer': 'Д0'},\n",
       " {'type': 1,\n",
       "  'date': datetime.date(2016, 5, 20),\n",
       "  'top': 1762.8,\n",
       "  'bot': 1765.6,\n",
       "  'layer': 'Д0+Д1A'},\n",
       " {'type': 0,\n",
       "  'date': datetime.date(2013, 7, 11),\n",
       "  'top': 1749.0,\n",
       "  'bot': 1752.0,\n",
       "  'layer': 'Д0'},\n",
       " {'type': 0,\n",
       "  'date': datetime.date(2012, 3, 1),\n",
       "  'top': 1749.0,\n",
       "  'bot': 1752.0,\n",
       "  'layer': 'Д0'},\n",
       " {'type': 1,\n",
       "  'date': datetime.date(2011, 7, 31),\n",
       "  'top': 1749.0,\n",
       "  'bot': 1752.0,\n",
       "  'layer': 'Д0'},\n",
       " {'type': 0,\n",
       "  'date': datetime.date(2008, 6, 10),\n",
       "  'top': 1749.0,\n",
       "  'bot': 1752.0,\n",
       "  'layer': 'Д0'},\n",
       " {'type': 1,\n",
       "  'date': datetime.date(2008, 1, 9),\n",
       "  'top': 1763.0,\n",
       "  'bot': 1765.6,\n",
       "  'layer': 'Д0+Д1A'},\n",
       " {'type': 2,\n",
       "  'date': datetime.date(2007, 12, 25),\n",
       "  'top': 1771.2,\n",
       "  'bot': 1773.0,\n",
       "  'layer': 'Д0+Д1Б2'},\n",
       " {'type': 2,\n",
       "  'date': datetime.date(2007, 12, 25),\n",
       "  'top': 1773.0,\n",
       "  'bot': 1776.2,\n",
       "  'layer': 'Д0+Д1Б3'},\n",
       " {'type': 2,\n",
       "  'date': datetime.date(2007, 12, 25),\n",
       "  'top': 1780.0,\n",
       "  'bot': 1780.2,\n",
       "  'layer': 'АРГИЛИТЫ'},\n",
       " {'type': 2,\n",
       "  'date': datetime.date(2007, 12, 25),\n",
       "  'top': 1780.2,\n",
       "  'bot': 1786.4,\n",
       "  'layer': 'Д0+Д1B'},\n",
       " {'type': 1,\n",
       "  'date': datetime.date(1982, 12, 16),\n",
       "  'top': 1780.0,\n",
       "  'bot': 1780.2,\n",
       "  'layer': 'АРГИЛИТЫ'},\n",
       " {'type': 1,\n",
       "  'date': datetime.date(1982, 12, 16),\n",
       "  'top': 1780.2,\n",
       "  'bot': 1786.4,\n",
       "  'layer': 'Д0+Д1B'},\n",
       " {'type': 1,\n",
       "  'date': datetime.date(1982, 11, 30),\n",
       "  'top': 1771.2,\n",
       "  'bot': 1773.0,\n",
       "  'layer': 'Д0+Д1Б2'},\n",
       " {'type': 1,\n",
       "  'date': datetime.date(1982, 11, 30),\n",
       "  'top': 1773.0,\n",
       "  'bot': 1776.2,\n",
       "  'layer': 'Д0+Д1Б3'},\n",
       " {'type': 1,\n",
       "  'date': datetime.date(1977, 4, 1),\n",
       "  'top': 1749.0,\n",
       "  'bot': 1752.0,\n",
       "  'layer': 'Д0'},\n",
       " {'type': 1,\n",
       "  'date': datetime.date(1977, 4, 1),\n",
       "  'top': 1763.0,\n",
       "  'bot': 1765.6,\n",
       "  'layer': 'Д0+Д1A'},\n",
       " {'type': 2,\n",
       "  'date': datetime.date(1977, 3, 30),\n",
       "  'top': 1774.4,\n",
       "  'bot': 1776.2,\n",
       "  'layer': 'Д0+Д1Б3'},\n",
       " {'type': 2,\n",
       "  'date': datetime.date(1977, 3, 30),\n",
       "  'top': 1780.2,\n",
       "  'bot': 1789.0,\n",
       "  'layer': 'Д0+Д1B'},\n",
       " {'type': 2,\n",
       "  'date': datetime.date(1977, 3, 30),\n",
       "  'top': 1791.4,\n",
       "  'bot': 1798.0,\n",
       "  'layer': 'Д0+Д1Г2+3'},\n",
       " {'type': 2,\n",
       "  'date': datetime.date(1977, 3, 30),\n",
       "  'top': 1798.0,\n",
       "  'bot': 1805.2,\n",
       "  'layer': 'Д0+Д1Д'},\n",
       " {'type': 1,\n",
       "  'date': datetime.date(1959, 2, 4),\n",
       "  'top': 1763.6,\n",
       "  'bot': 1765.6,\n",
       "  'layer': 'Д0+Д1A'},\n",
       " {'type': 1,\n",
       "  'date': datetime.date(1959, 2, 4),\n",
       "  'top': 1774.4,\n",
       "  'bot': 1776.2,\n",
       "  'layer': 'Д0+Д1Б3'},\n",
       " {'type': 1,\n",
       "  'date': datetime.date(1959, 2, 4),\n",
       "  'top': 1780.2,\n",
       "  'bot': 1789.0,\n",
       "  'layer': 'Д0+Д1B'},\n",
       " {'type': 1,\n",
       "  'date': datetime.date(1959, 2, 4),\n",
       "  'top': 1791.4,\n",
       "  'bot': 1798.0,\n",
       "  'layer': 'Д0+Д1Г2+3'},\n",
       " {'type': 1,\n",
       "  'date': datetime.date(1959, 2, 4),\n",
       "  'top': 1798.0,\n",
       "  'bot': 1805.2,\n",
       "  'layer': 'Д0+Д1Д'}]"
      ]
     },
     "execution_count": 18,
     "metadata": {},
     "output_type": "execute_result"
    }
   ],
   "source": [
    "perf_ints['3140']"
   ]
  },
  {
   "cell_type": "code",
   "execution_count": null,
   "id": "880dc15b",
   "metadata": {},
   "outputs": [],
   "source": []
  }
 ],
 "metadata": {
  "kernelspec": {
   "display_name": "Python 3",
   "language": "python",
   "name": "python3"
  },
  "language_info": {
   "codemirror_mode": {
    "name": "ipython",
    "version": 3
   },
   "file_extension": ".py",
   "mimetype": "text/x-python",
   "name": "python",
   "nbconvert_exporter": "python",
   "pygments_lexer": "ipython3",
   "version": "3.6.9"
  }
 },
 "nbformat": 4,
 "nbformat_minor": 5
}